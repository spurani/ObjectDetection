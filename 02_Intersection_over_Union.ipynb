{
 "cells": [
  {
   "cell_type": "markdown",
   "metadata": {
    "id": "xiRJwmP7keel"
   },
   "source": [
    "<h1 style=\"font-size:30px;\">Intersection over Union (IoU)</h1>\n",
    "\n",
    "In the object detection problems, the goal is to accuractly predict the location of an object within an image with a bounding box that encompasses the boundaries of the object. The metric that is typically used to quanitfy this accuracy is called **Intersection over Union (IoU)**. In this notebook, we will demonstrate how to compute this metric.\n",
    "\n",
    "<img src=\"https://opencv.org/wp-content/uploads/2022/05/c4-06-iou-feature-image.png\" width=\"1000\">\n",
    "\n",
    "<center>Reference: <a href=\"https://storage.googleapis.com/openimages/web/visualizer/index.html?set=train&type=detection&c=%2Fm%2F0bwd_0j\">Open Images Datasets</a></center>"
   ]
  },
  {
   "cell_type": "markdown",
   "metadata": {
    "id": "zXHoPuAXkeeq"
   },
   "source": [
    "## Table of Contents\n",
    "\n",
    "* [1 Plotting Bounding Boxes](#1-Plotting-Bounding-Boxes)\n",
    "* [2 Computing IoU](#2-Computing-IoU)\n",
    "* [3 Computing Overlap](#3-Computing-Overlap)"
   ]
  },
  {
   "cell_type": "code",
   "execution_count": 18,
   "metadata": {
    "id": "njIq2NYOkeer"
   },
   "outputs": [],
   "source": [
    "%matplotlib inline\n",
    "import matplotlib.pyplot as plt\n",
    "plt.style.use('ggplot')\n",
    "plt.rcParams[\"figure.figsize\"] = (10, 10)\n",
    "import matplotlib.patches as patches\n",
    "import tensorflow as tf"
   ]
  },
  {
   "cell_type": "markdown",
   "metadata": {
    "id": "VQwwPiSEkeev"
   },
   "source": [
    "## 1 Plotting Bounding Boxes\n",
    "\n",
    "`patches.Rectangle` of `matplotlib` is used to a bounding box. It requires $x_{min}$, $y_{min}$, $width$, and $height$. \n",
    "\n",
    "$width$ and $height$ can be calculated as follows:\n",
    "\n",
    "$$\n",
    "width = x_{max} - x_{min} + 1 \\\\\n",
    "height = y_{max} - y_{min} + 1\n",
    "$$\n",
    "\n",
    "**Why is it required to add a 1 after subtracting min from max?**\n",
    "\n",
    "Since the width and height are represented in terms of pixels, they are not continuous but just discrete numbers. \n",
    "\n",
    "The bounding box is represented in the form of $[x_{min}, y_{min}, x_{max}, y_{max}]$. Here, $(x_{min}, y_{min})$ and $(x_{max}, y_{max})$, both pixels are part of the bounding box. \n",
    "\n",
    "So starting from $x_{min}$ and $width = x_{max} - x_{min}$ , we can't include pixels where $x = x_{max}$. **Adding one solves the problem**. "
   ]
  },
  {
   "cell_type": "code",
   "execution_count": 26,
   "metadata": {
    "id": "n1Q9HZaUkeew"
   },
   "outputs": [],
   "source": [
    "def plot_bounding_box(dbox_data):\n",
    "    \"\"\"\n",
    "    \"Plot bounding boxes\"\n",
    "    \n",
    "    dbox_data (tf.Variable): a tensor of bounding boxes. \n",
    "                             Format: [\n",
    "                             [x_min, y_min, x_max, y_max, ...],\n",
    "                             [x_min, y_min, x_max, y_max, ...],\n",
    "                                         :\n",
    "                                         :\n",
    "                             [x_min, y_min, x_max, y_max, ...],\n",
    "                             \n",
    "                             ] \n",
    "    \"\"\"\n",
    "    \n",
    "    # Calculate width and height for all boxes.\n",
    "    # width = x_max - x_min + 1, x_max column index 2 and x_min column index is 0.\n",
    "    # height = y_max - y_min + 1, y_max column index 3 and y_min column index is 1\n",
    "    \n",
    "    width = dbox_data[:, 2] - dbox_data[:, 0] + 1\n",
    "    height = dbox_data[:, 3] - dbox_data[:, 1] + 1\n",
    "    \n",
    "    color = ['r', 'g', 'b', 'c', 'm', 'y', 'k', 'w']\n",
    "    fig = plt.figure(figsize=(15, 15))       \n",
    "    \n",
    "    ax = fig.add_subplot(111, aspect='equal')\n",
    "    \n",
    "    for i in range(tf.shape(dbox_data)[0]):\n",
    "        ax.add_patch(\n",
    "            patches.Rectangle(\n",
    "                (dbox_data[i, 0], dbox_data[i, 1]),\n",
    "                width[i],\n",
    "                height[i],\n",
    "                fill=False,      # remove background\n",
    "                color=color[i%len(color)],\n",
    "                linewidth = 3,\n",
    "                label = '{}'.format(i)\n",
    "            ) \n",
    "        )\n",
    "        \n",
    "    ax.legend()\n",
    "    \n",
    "    plt.xticks(range(0, 1050, 50))\n",
    "    plt.yticks(range(0, 1050, 50))\n",
    "        \n",
    "    plt.show()\n",
    "    \n",
    "    return"
   ]
  },
  {
   "cell_type": "markdown",
   "metadata": {
    "id": "sgnuYB9qkeex"
   },
   "source": [
    "There are four bounding boxes of the format $[x_{min}, y_{min}, x_{max}, y_{max}]$."
   ]
  },
  {
   "cell_type": "code",
   "execution_count": 20,
   "metadata": {
    "id": "FaAaaN4Bkeey",
    "outputId": "6091631b-bce8-47f6-b4d9-dfe65206bdcc"
   },
   "outputs": [],
   "source": [
    "# Bounding boxes / detections.\n",
    "detections = tf.Variable([\n",
    "    [100, 100, 500, 600],\n",
    "    [150, 320, 570, 620],\n",
    "    [50, 150, 450, 800],\n",
    "    [550, 300, 900, 500]\n",
    "],\n",
    "    dtype=tf.float32\n",
    ")"
   ]
  },
  {
   "cell_type": "markdown",
   "metadata": {
    "id": "E1L_oDtCkeey"
   },
   "source": [
    "**Let us plot these bounding boxes.**"
   ]
  },
  {
   "cell_type": "code",
   "execution_count": 21,
   "metadata": {
    "id": "4FpcGsXakeey",
    "outputId": "94ed4293-30bc-4f27-dfad-5c0829e89d20"
   },
   "outputs": [
    {
     "data": {
      "image/png": "[encoded data removed]",
      "text/plain": [
       "<Figure size 1440x720 with 1 Axes>"
      ]
     },
     "metadata": {},
     "output_type": "display_data"
    }
   ],
   "source": [
    "# Plot bounding boxes.\n",
    "plot_bounding_box(detections)"
   ]
  },
  {
   "cell_type": "markdown",
   "metadata": {
    "id": "0h0I8aQgkeez"
   },
   "source": [
    "## 2 Computing IoU\n",
    "\n",
    "In the code cell below, we define a function that computes the `IoU` of the $0^{th}$ indexed bounding box with the rest of the boxes $(1^{st}, 2^{nd}, ...)$.  This function will be used as a building block in  future notebook non-maximum suppression (NMS). If you are not aleady familair with non-maximum suppression, it will be covered in a subsequent notebook.\n",
    "\n",
    "**Here is the algorithm that is implemented below to compute the IoU of two bounding boxes:**\n",
    "\n",
    "- Calculate the `width` and `height` of bounding boxes one and two.\n",
    "\n",
    "\n",
    "- Calculate `area_bounding_box_1` and `area_bounding_box_2` using the width and height for bounding boxes one and two, respectively.\n",
    "\n",
    "\n",
    "- Calculate coordinates of the overlapped rectangle of the two bounding boxes.\n",
    "\n",
    "\n",
    "- Calculate the width and height of the intersection (overlap) using its coordinates.\n",
    "\n",
    "\n",
    "- Change negative widths and heights to zero. \n",
    "\n",
    "\n",
    "- Calculate the area of the intersection, `intersection_area` using intersection width and height.\n",
    "\n",
    "\n",
    "- Use the following formula to calculate IoU: \n",
    "\n",
    "$$\n",
    "\\text{IoU} = \\frac{\\text{intersection_area}}{\\text{area_bounding_box}_1 + \\text{area_bounding_box}_2 - \\text{intersection_area}}\n",
    "$$"
   ]
  },
  {
   "cell_type": "code",
   "execution_count": 22,
   "metadata": {
    "id": "BXfWHEGAkeez"
   },
   "outputs": [],
   "source": [
    "def intersection_over_union(dbox_data, area=None):\n",
    "    \"\"\"\n",
    "    \"Calculates IoU of the 0th indexed bounding box with the rest of the boxes ([1:]). \"\n",
    "    \n",
    "    dbox_data (tf.Variable): a tensor of bounding boxes. \n",
    "                             Format: [\n",
    "                             [x_min, y_min, x_max, y_max, ...],\n",
    "                             [x_min, y_min, x_max, y_max, ...],\n",
    "                                         :\n",
    "                                         :\n",
    "                             [x_min, y_min, x_max, y_max, ...],\n",
    "                             \n",
    "                             ]\n",
    "                             \n",
    "    area (tf.Variable): area of the bounding boxes.\n",
    "                        Foramt: [area_of_bounding_box_1, area_of_bounding_box_2, ....]\n",
    "                        \n",
    "                        default is None. If area is None, the function calculates the area and use it. \n",
    "                        \n",
    "    return (tensor): IoU of the 0th indexed bounding box with the rest of the boxes. Lenght will be one less than \n",
    "                     the number of bounding box.\n",
    "    \"\"\"\n",
    "    \n",
    "    # Calculates area if it is None.\n",
    "    if area is None:\n",
    "        \n",
    "        # Calculate width and height.\n",
    "        width = dbox_data[:, 2] - dbox_data[:, 0] + 1\n",
    "        height = dbox_data[:, 3] - dbox_data[:, 1] + 1\n",
    "        \n",
    "        area = tf.multiply(width, height)\n",
    "        \n",
    "    # Identify the overlap box coordinates.\n",
    "    xx1 = tf.math.maximum(dbox_data[0, 0], dbox_data[1:, 0])\n",
    "    yy1 = tf.math.maximum(dbox_data[0, 1], dbox_data[1:, 1])\n",
    "    xx2 = tf.math.minimum(dbox_data[0, 2], dbox_data[1:, 2])\n",
    "    yy2 = tf.math.minimum(dbox_data[0, 3], dbox_data[1:, 3])\n",
    "\n",
    "    # Get size of the overlap sides and suppress negative values.\n",
    "    intersection_width = tf.math.maximum((xx2 - xx1 + 1), tf.Variable(0.0, dtype=tf.float32))\n",
    "    intersection_height = tf.math.maximum((yy2 - yy1 + 1), tf.Variable(0.0, dtype=tf.float32))\n",
    "\n",
    "    # IoU calculation.\n",
    "    intersection_area = intersection_width * intersection_height\n",
    "    iou = intersection_area / (area[0] + area[1:] - intersection_area)\n",
    "    \n",
    "    return iou"
   ]
  },
  {
   "cell_type": "code",
   "execution_count": 23,
   "metadata": {
    "id": "-WacTkNukee0",
    "outputId": "0f0615a6-cbc5-4185-e752-c6d78cde9959"
   },
   "outputs": [
    {
     "name": "stdout",
     "output_type": "stream",
     "text": [
      "tf.Tensor([0.43071997 0.52132547 0.        ], shape=(3,), dtype=float32)\n"
     ]
    }
   ],
   "source": [
    "# Use the above detections to calculate IoU.\n",
    "iou = intersection_over_union(detections)\n",
    "print(iou)"
   ]
  },
  {
   "cell_type": "markdown",
   "metadata": {
    "id": "gsG3FFHbkee0"
   },
   "source": [
    "## 3 Computing Overlap\n",
    "\n",
    "Here we are computing the fraction of overlap of boxes 1, 2 and 3 with respect to bounding box 0."
   ]
  },
  {
   "cell_type": "code",
   "execution_count": 24,
   "metadata": {
    "id": "F-Obliyckee1"
   },
   "outputs": [],
   "source": [
    "def overlap(dbox_data):\n",
    "       \n",
    "    # Identify the overlap box coordinates.\n",
    "    xx1 = tf.math.maximum(dbox_data[0, 0], dbox_data[1:, 0])\n",
    "    yy1 = tf.math.maximum(dbox_data[0, 1], dbox_data[1:, 1])\n",
    "    xx2 = tf.math.minimum(dbox_data[0, 2], dbox_data[1:, 2])\n",
    "    yy2 = tf.math.minimum(dbox_data[0, 3], dbox_data[1:, 3])\n",
    "\n",
    "    # Get size of the overlap sides and suppress negative values.\n",
    "    intersection_width = tf.math.maximum((xx2 - xx1 + 1), tf.Variable(0.0, dtype=tf.float32))\n",
    "    intersection_height = tf.math.maximum((yy2 - yy1 + 1), tf.Variable(0.0, dtype=tf.float32))\n",
    "\n",
    "    # IoU calculation.\n",
    "    intersection_area = intersection_width * intersection_height\n",
    "    \n",
    "    area_ref = (dbox_data[0, 2] - dbox_data[0, 0] + 1.) * (dbox_data[0, 3] - dbox_data[0, 1] + 1.)\n",
    "    \n",
    "    # Calculate overlap.\n",
    "    overlap = intersection_area / area_ref\n",
    "    \n",
    "    return overlap"
   ]
  },
  {
   "cell_type": "code",
   "execution_count": 25,
   "metadata": {
    "id": "0mWhLyfBkee1",
    "outputId": "847033c4-60e0-4216-93be-02dc4a81d60c"
   },
   "outputs": [
    {
     "name": "stdout",
     "output_type": "stream",
     "text": [
      "tf.Tensor([0.4909433 0.7879553 0.       ], shape=(3,), dtype=float32)\n"
     ]
    }
   ],
   "source": [
    "print(overlap(detections))"
   ]
  },
  {
   "cell_type": "markdown",
   "metadata": {
    "id": "OBrLV3Uhkee1"
   },
   "source": [
    "**There are four bounding boxes, so the function returns three IoUs.**\n",
    "\n",
    "- The IoU between `0-1` is `0.43`. However, bounding box 1 is about `49%` overlapped with box 0.\n",
    "\n",
    "- The IoU between `0-2` is `0.52`. We can see that bounding box 2 is `78.8%` overlapped with box 0; however, the IoU is around `50%` only.\n",
    "\n",
    "- The IoU between `0-3` is `0.0`. Because there is no overlap. "
   ]
  }
 ],
 "metadata": {
  "colab": {
   "name": "c4_07_9b_Intersection_over_Union.ipynb",
   "provenance": []
  },
  "kernelspec": {
   "display_name": "Python 3 (ipykernel)",
   "language": "python",
   "name": "python3"
  },
  "language_info": {
   "codemirror_mode": {
    "name": "ipython",
    "version": 3
   },
   "file_extension": ".py",
   "mimetype": "text/x-python",
   "name": "python",
   "nbconvert_exporter": "python",
   "pygments_lexer": "ipython3",
   "version": "3.8.13"
  },
  "latex_envs": {
   "LaTeX_envs_menu_present": true,
   "autoclose": false,
   "autocomplete": true,
   "bibliofile": "biblio.bib",
   "cite_by": "apalike",
   "current_citInitial": 1,
   "eqLabelWithNumbers": true,
   "eqNumInitial": 1,
   "hotkeys": {
    "equation": "Ctrl-E",
    "itemize": "Ctrl-I"
   },
   "labels_anchors": false,
   "latex_user_defs": false,
   "report_style_numbering": false,
   "user_envs_cfg": false
  },
  "toc": {
   "base_numbering": 1,
   "nav_menu": {},
   "number_sections": true,
   "sideBar": true,
   "skip_h1_title": false,
   "title_cell": "Table of Contents",
   "title_sidebar": "Contents",
   "toc_cell": false,
   "toc_position": {},
   "toc_section_display": true,
   "toc_window_display": false
  },
  "varInspector": {
   "cols": {
    "lenName": 16,
    "lenType": 16,
    "lenVar": 40
   },
   "kernels_config": {
    "python": {
     "delete_cmd_postfix": "",
     "delete_cmd_prefix": "del ",
     "library": "var_list.py",
     "varRefreshCmd": "print(var_dic_list())"
    },
    "r": {
     "delete_cmd_postfix": ") ",
     "delete_cmd_prefix": "rm(",
     "library": "var_list.r",
     "varRefreshCmd": "cat(var_dic_list()) "
    }
   },
   "types_to_exclude": [
    "module",
    "function",
    "builtin_function_or_method",
    "instance",
    "_Feature"
   ],
   "window_display": false
  }
 },
 "nbformat": 4,
 "nbformat_minor": 1
}
