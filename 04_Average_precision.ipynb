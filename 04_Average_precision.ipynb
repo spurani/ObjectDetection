{
 "cells": [
  {
   "cell_type": "markdown",
   "metadata": {
    "id": "96fBA0vLXpQ5"
   },
   "source": [
    "<h1 style=\"font-size:30px;\">Average Precision (AP)</h1>\n",
    "\n",
    "\n",
    "Here are predictions from two taxi detection models. In both images:\n",
    "- **`Yellow bounding boxes`** are ground truths.\n",
    "- **`Red bounding boxes`** are predictions from `model-1` in `image-1`.\n",
    "- **`Blue bounding boxes`** are predictions from `model-2` in `image-2`.\n",
    "\n",
    "\n",
    "---\n",
    "\n",
    "<table><tr>\n",
    "<td><img src=\"https://www.learnopencv.com/wp-content/uploads/2020/10/c4-w8-taxi-AP-1.jpg\" alt=\"Drawing\" style=\"width: 500px;\"></td>\n",
    "<td> <img src=\"https://www.learnopencv.com/wp-content/uploads/2020/10/c4-w8-taxi-AP-2.jpg\" alt=\"Drawing\" style=\"width: 500px;\"></td>\n",
    "</tr></table>\n",
    "\n",
    "<center>Reference: <a href=\"https://storage.googleapis.com/openimages/web/visualizer/index.html?set=train&type=detection&c=%2Fm%2F0pg52&id=2ac173481983c3a4\">Open Images Datasets</a></center>\n",
    "\n",
    "---\n",
    "\n",
    "**By looking at these two images, can you tell which object detection model is better?**\n",
    "\n",
    "\n",
    "Before jumping to any conclusion, let us list a few observations:\n",
    "\n",
    "- All taxis are detected in `image-1`, but one car is also mistakenly detected as a taxi (**false positive**).\n",
    "\n",
    "\n",
    "- In `image-2`, there are only two detections, one is a taxi and the second is for two taxis combined. There seem to be no **false positives** though. \n",
    "\n",
    "\n",
    "**More than answers, these models give rise to questions like should the two taxis enclosed in one bounding box in image-2 be counted as two taxis or a single taxi?**\n",
    "\n",
    "\n",
    "Based on the above observations, it is difficult to determine which model is better.\n",
    "- While one model is predicting a **false positive**\n",
    "- The other is giving a single bounding box for two taxies; perhaps it should be counted as one missing detection (**false negative**).\n",
    "\n",
    "So these observations emphasize the need for an evaluation metric that quantifies the superiority of an object detection model. One metric that is widely accepted as metric for object detection is called **mean Average Precision (mAP)**."
   ]
  },
  {
   "cell_type": "markdown",
   "metadata": {
    "id": "Pn4hm-4cD3jn"
   },
   "source": [
    "## Table of Contents\n",
    "\n",
    "* [1 Building Blocks of Detection Metric](#1-Building-Blocks-of-Detection-Metric)\n",
    "* [2 Average Precision Algorithm](#2-Average-Precision-Algorithm)\n",
    "* [3 Check the Implementation](#3-Check-the-Implementation)\n",
    "* [4 Mean Average Precision (mAP)](#4-Mean-Average-Precision-%28mAP%29)\n",
    "* [5 References](#5-References)"
   ]
  },
  {
   "cell_type": "code",
   "execution_count": 1,
   "metadata": {
    "id": "AsPrhRRKXpQ9"
   },
   "outputs": [],
   "source": [
    "import numpy as np\n",
    "import tensorflow as tf\n",
    "import matplotlib.patches as patches\n",
    "\n",
    "from collections import defaultdict\n",
    "\n",
    "import matplotlib.pyplot as plt\n",
    "plt.style.use('ggplot')\n",
    "plt.rcParams[\"figure.figsize\"] = (15, 10)\n",
    "block_plot = False"
   ]
  },
  {
   "cell_type": "markdown",
   "metadata": {
    "id": "z1Gzyx6CXpQ6"
   },
   "source": [
    "## 1 Building Blocks of Detection Metric\n",
    "\n",
    "**To fully understand the average precision metric and use it effectively, you need to understand each of the components used to compute it. So let’s study the following components, one by one:**\n",
    "\n",
    "- Intersection over Union (IoU)\n",
    "\n",
    "- True Positive (TP)\n",
    "\n",
    "- False Positive (FP)\n",
    "\n",
    "- False Negative (FN)\n",
    "\n",
    "- Precision\n",
    "\n",
    "- Recall"
   ]
  },
  {
   "cell_type": "markdown",
   "metadata": {
    "id": "23aWgoBkXpQ7"
   },
   "source": [
    "### 1.1 Intersection over Union (IoU)\n",
    "\n",
    "As you know, that **IoU** measures the proximity of two bounding boxes. Here, IoU is required to measure **how close the ground-truth bounding box is to the predicted bounding box**. \n",
    "\n",
    "\n",
    "You are already pretty familiar with IoU, so let's just quickly summarize here.\n",
    "\n",
    "<img src='https://www.learnopencv.com/wp-content/uploads/2020/10/c4-w8-IoU.png' width=\"800\">\n",
    "\n",
    "\n",
    "$$\n",
    "\\text{IoU} = \\frac{\\text{intersection_area}}{\\text{union_area}} = \\frac{\\text{intersection_area}}{\\text{area_bounding_box}_1 + \\text{area_bounding_box}_2 - \\text{intersection_area}}\n",
    "$$\n",
    "\n",
    "Even though the IoU code has already been discussed in detail, here we simply rewrite the code in order to use in the AP evaluation metric.\n",
    "\n",
    "`get_iou()` runs on every image:\n",
    "- This method calls one predicted bounding box and all ground-truth bounding boxes of a single image\n",
    "- Tt returns the IoU of the predicted bounding box with ground-truth bounding boxes."
   ]
  },
  {
   "cell_type": "code",
   "execution_count": null,
   "metadata": {
    "id": "0B_vyvgOXpQ_"
   },
   "outputs": [],
   "source": [
    "# Compute intersection over union of detected boxes with GTs.\n",
    "def get_iou(predicted_dbox, ground_truth_dboxes):\n",
    "    \"\"\"\n",
    "        Calculates IoU (Jaccard index) of two detection boxes:\n",
    "            predicted_dbox ∩ ground_truth_dbox / (area(predicted_dbox) +\n",
    "            area(ground_truth_dbox) - predicted_dbox ∩ ground_truth_dbox)\n",
    "\n",
    "        Parameters:\n",
    "            Coordinates of detection boxes are supposed to be in the following form: [x1, y1, x2, y2]\n",
    "            predicted_dbox: [tensor] predicted detection boxe\n",
    "            ground_truth_dboxes: [tensor] ground truth detection boxes\n",
    "\n",
    "        Return value:\n",
    "            overlap area\n",
    "    \"\"\"\n",
    "    # Get coordinates of boxes to prepare overlap data.\n",
    "    ixmin = tf.math.maximum(ground_truth_dboxes[:, 0], predicted_dbox[0])\n",
    "    iymin = tf.math.maximum(ground_truth_dboxes[:, 1], predicted_dbox[1])\n",
    "    ixmax = tf.math.minimum(ground_truth_dboxes[:, 2], predicted_dbox[2])\n",
    "    iymax = tf.math.minimum(ground_truth_dboxes[:, 3], predicted_dbox[3])\n",
    "\n",
    "    width = tf.math.maximum(ixmax - ixmin + 1., tf.Variable(0.))\n",
    "    height = tf.math.maximum(iymax - iymin + 1., tf.Variable(0.))\n",
    "    intersection_area = width * height\n",
    "\n",
    "    # Calculate the union value.\n",
    "    union = ((predicted_dbox[2] - predicted_dbox[0] + 1.) * (predicted_dbox[3] - predicted_dbox[1] + 1.) +\n",
    "             (ground_truth_dboxes[:, 2] - ground_truth_dboxes[:, 0] + 1.) *\n",
    "             (ground_truth_dboxes[:, 3] - ground_truth_dboxes[:, 1] + 1.) - intersection_area)\n",
    "\n",
    "    return intersection_area / union"
   ]
  },
  {
   "cell_type": "markdown",
   "metadata": {
    "id": "mo6KgTTMXpRA"
   },
   "source": [
    "Any predicted bounding box should have a single mapping with ground-truth bounding boxes. Logically it should be the ground-truth that has maximum `IoU` with the predicted bounding box. The function below, `check_iou_threshold()`  performs this mapping with the following steps.\n",
    "- It takes a predicted bounding box and all the ground-truths of an image\n",
    "- It uses `get_iou` to get IoUs and then finds its maximum `IoU` and corresponding index\n",
    "- Compares the maximum `IoU` to see if it is greater than the `IoU threshold` and returns the boolean value and the index of the maximum IoU value"
   ]
  },
  {
   "cell_type": "code",
   "execution_count": null,
   "metadata": {
    "id": "_L8hOa-JXpRA"
   },
   "outputs": [],
   "source": [
    "# Check if intersections of predicted and ground-truth boxes are greater than predefined threshold.\n",
    "def check_iou_threshold(predicted_dboxes, ground_truth_dboxes, intersection_threshold):\n",
    "    \"\"\"\n",
    "        Get the predictions with an appropriate IoU area for further true positives computations\n",
    "\n",
    "        Parameters:\n",
    "        predicted_dboxes: predicted by the detector detection boxes\n",
    "        ground_truth_dboxes: ground truth\n",
    "        intersection_threshold: IoU threshold\n",
    "\n",
    "        Return value:\n",
    "            tensor with the following values:\n",
    "                    True - if the IoU passed defined threshold\n",
    "                    False - if the IoU did not pass defined threshold\n",
    "            index of the maximum IoU value\n",
    "    \"\"\"\n",
    "    intersection_over_union = get_iou(predicted_dboxes, ground_truth_dboxes)\n",
    "    return tf.math.reduce_max(intersection_over_union\n",
    "                             ) >= intersection_threshold, tf.math.argmax(intersection_over_union)"
   ]
  },
  {
   "cell_type": "markdown",
   "metadata": {
    "id": "agGA1CDOXpRA"
   },
   "source": [
    "Let's now take examples of ground truth and predicted bounding boxes from a single image and run `check_iou_threshold` on them. It is better to plot these bounding boxes so that we can visually verify our implementation. For this purpose, we define the function below, `plot_groundtruth_prediction_boxes()`, to plot the ground truth and predicted bounding boxes with their probabilities. "
   ]
  },
  {
   "cell_type": "code",
   "execution_count": null,
   "metadata": {
    "id": "JRNt0eFqXpRB"
   },
   "outputs": [],
   "source": [
    "def plot_groundtruth_prediction_boxes(ground_truths, predictions):\n",
    "    \"\"\"\n",
    "    \"Plots ground truth and prediction bounding boxes\"\n",
    "    \n",
    "    Parameters:\n",
    "    \n",
    "    gt_bboxes (list): a list of ground truths. \n",
    "                      Format: \n",
    "                      [\n",
    "                          [Image_ID(str), [x_min, y_min, x_max, y_max] (tf.Variable)],\n",
    "                          [Image_ID(str), [x_min, y_min, x_max, y_max] (tf.Variable)],\n",
    "                                         :\n",
    "                                         :\n",
    "                          [Image_ID(str), [x_min, y_min, x_max, y_max] (tf.Variable)]\n",
    "                             \n",
    "                      ] \n",
    "                             \n",
    "    pred_bboxes (list): a list of detected bounding box data containing ImageID, boxes, conf. scores. \n",
    "                        Format: \n",
    "                        [\n",
    "                          [Image_ID(str), [x_min, y_min, x_max, y_max](tf.Variable), prob_1(tf.Variable)],\n",
    "                          [Image_ID(str), [x_min, y_min, x_max, y_max](tf.Variable), prob_2(tf.Variable)],\n",
    "                                                     :\n",
    "                                                     :\n",
    "                          [Image_ID(str), [x_min, y_min, x_max, y_max](tf.Variable), prob_n(tf.Variable)]\n",
    "                             \n",
    "                        ] \n",
    "    \"\"\"\n",
    "    \n",
    "    box_data = [ground_truths, predictions]\n",
    "    \n",
    "    sorted_ind = [i for i,_ in sorted(enumerate(predictions), key=lambda conf: conf[1][2], reverse=True)]\n",
    "\n",
    "    \n",
    "    colors = ['b', 'r']\n",
    "    label_prefix = ['g-truth', 'pred']\n",
    "        \n",
    "    fig = plt.figure()       \n",
    "    \n",
    "    ax = fig.add_subplot(111, aspect='equal')\n",
    "    \n",
    "    for boxtype_i, boxes in enumerate(box_data):\n",
    "        \n",
    "        dbox_data = tf.stack([box[1] for box in boxes])\n",
    "    \n",
    "        width = dbox_data[:, 2] - dbox_data[:, 0] + 1\n",
    "        height = dbox_data[:, 3] - dbox_data[:, 1] + 1\n",
    "    \n",
    "        for i in range(tf.shape(dbox_data)[0]):\n",
    "            \n",
    "            # Ground Truths.\n",
    "            if boxtype_i == 0:\n",
    "                index = i\n",
    "                label = '{}. {}'.format(index, label_prefix[0])\n",
    "                x_label = dbox_data[index, 0] + 8\n",
    "                y_label = dbox_data[index, 3] - 10\n",
    "                \n",
    "            # Detections.    \n",
    "            else:\n",
    "                index = sorted_ind[i]\n",
    "                label = '{0}. {1}({2:.2})'.format(index, label_prefix[1], predictions[index][2].numpy())\n",
    "                x_label = dbox_data[index, 0] + 8\n",
    "                y_label = dbox_data[index, 1] - 10\n",
    "                \n",
    "            ax.add_patch(\n",
    "                patches.Rectangle(\n",
    "                    (dbox_data[index, 0], dbox_data[index, 1]),\n",
    "                    width[index],\n",
    "                    height[index],\n",
    "                    fill=False,      # remove background\n",
    "                    color=colors[boxtype_i],\n",
    "                    linewidth = 3,\n",
    "            )\n",
    "            )\n",
    "            \n",
    "            \n",
    "            \n",
    "            ax.text(x_label, y_label, label, color=colors[boxtype_i], \n",
    "                    bbox=dict(facecolor='none', edgecolor=colors[boxtype_i]))\n",
    "        \n",
    "    \n",
    "    plt.xticks(range(0, 1550, 50))\n",
    "    plt.yticks(range(0, 1050, 50))\n",
    "        \n",
    "    plt.gca().invert_yaxis()\n",
    "    plt.show(block=block_plot)\n",
    "    \n",
    "    return"
   ]
  },
  {
   "cell_type": "markdown",
   "metadata": {
    "id": "Ba7pRPM4XpRB"
   },
   "source": [
    "**Here is an example of ground truth and predicted bounding boxes.  There is also a bounding box confidence score.** "
   ]
  },
  {
   "cell_type": "code",
   "execution_count": null,
   "metadata": {
    "executionInfo": {
     "elapsed": 633,
     "status": "ok",
     "timestamp": 1632295168848,
     "user": {
      "displayName": "Kunal Dawn",
      "photoUrl": "https://lh3.googleusercontent.com/a-/AOh14GgUClJu3SyvWsHlkCXh8XgvLW6xAYsNgbWrgLQAZA=s64",
      "userId": "14354932350638389884"
     },
     "user_tz": -330
    },
    "id": "gn1JSVumXpRC",
    "outputId": "afd611bc-70e2-4f4d-a215-613cfa63cf84"
   },
   "outputs": [
    {
     "name": "stderr",
     "output_type": "stream",
     "text": [
      "2022-04-06 22:04:17.216624: W tensorflow/stream_executor/platform/default/dso_loader.cc:64] Could not load dynamic library 'libcuda.so.1'; dlerror: libcuda.so.1: cannot open shared object file: No such file or directory\n",
      "2022-04-06 22:04:17.216652: W tensorflow/stream_executor/cuda/cuda_driver.cc:326] failed call to cuInit: UNKNOWN ERROR (303)\n",
      "2022-04-06 22:04:17.216671: I tensorflow/stream_executor/cuda/cuda_diagnostics.cc:156] kernel driver does not appear to be running on this host (kunal-hp-pavilion-x360-convertible-14-ba0xx): /proc/driver/nvidia/version does not exist\n",
      "2022-04-06 22:04:17.217202: I tensorflow/core/platform/cpu_feature_guard.cc:142] This TensorFlow binary is optimized with oneAPI Deep Neural Network Library (oneDNN) to use the following CPU instructions in performance-critical operations:  AVX2 FMA\n",
      "To enable them in other operations, rebuild TensorFlow with the appropriate compiler flags.\n"
     ]
    }
   ],
   "source": [
    "# bounding boxes / detection\n",
    "ground_truths = [\n",
    "                 ['1', tf.Variable([ 100, 500,  300, 950], dtype=tf.float32)], \n",
    "                 ['1', tf.Variable([ 350, 550,  570, 930], dtype=tf.float32)],\n",
    "                 ['1', tf.Variable([ 600, 200,  850, 600], dtype=tf.float32)],\n",
    "                 ['1', tf.Variable([ 900, 10,  1100, 380], dtype=tf.float32)],\n",
    "                 ['1', tf.Variable([ 980, 500, 1200, 950], dtype=tf.float32)],\n",
    "                 ['1', tf.Variable([1250, 300, 1470, 800], dtype=tf.float32)],\n",
    "                ]\n",
    "\n",
    "# bounding boxes / detection\n",
    "detections = [\n",
    "               ['1', tf.Variable([ 120, 450,  325, 900], dtype=tf.float32), tf.Variable(.67)], \n",
    "               ['1', tf.Variable([ 340, 500,  580, 970], dtype=tf.float32), tf.Variable(.87)],\n",
    "               ['1', tf.Variable([ 620, 300,  870, 800], dtype=tf.float32), tf.Variable(.65)],\n",
    "               ['1', tf.Variable([ 820, 180, 1170, 440], dtype=tf.float32), tf.Variable(.56)],\n",
    "               ['1', tf.Variable([1000, 550, 1220, 980], dtype=tf.float32), tf.Variable(.89)],\n",
    "               ['1', tf.Variable([1300, 320, 1450, 750], dtype=tf.float32), tf.Variable(.99)],\n",
    "               ['1', tf.Variable([ 350, 100,  580, 450], dtype=tf.float32), tf.Variable(.51)],\n",
    "               ['1', tf.Variable([ 950, 490, 1180, 960], dtype=tf.float32), tf.Variable(.83)],\n",
    "             ]"
   ]
  },
  {
   "cell_type": "markdown",
   "metadata": {
    "id": "jV7hYGJgXpRC"
   },
   "source": [
    "Let's keep in mind that we would typically have ground truths across multiple images, and for each such image, we  have detections predicted by our model as well. We should also remember that we would have ground truths and detections across multiple classes as well. However, in this notebook, we shall restrict ourselves to performing all computations based on a **single class** for simplicity. So, it becomes imperative that we associate each image with an **ImageID** so that we can keep a track of them which is required to calculate the **mAP** score. However, for now, we would consider all ground truth and detections for a single image only. Further below in this notebook, we will also handle the case of multiple images.\n",
    "\n",
    "\n",
    "The format of our `ground_truths` and `detections` are as follows:\n",
    "\n",
    "*  **`ground_truths`**: Each ground truth is a **list** containing:\n",
    "    * an **ImageID (`str`)** - indicating the image to which it belongs to, and\n",
    "    * **BBox data(`tf.Variable`)** - which essentially contains 4 coordinates: $[x_{min}, y_{min}, x_{max}, y_{max}]$.\n",
    "    \n",
    "    \n",
    "*  **`detections`**: Each detection is a **list** containing:\n",
    "    * an **ImageID (`str`)** - indicating the image to which it belongs to, \n",
    "    * **BBox data(`tf.Variable`)** - which essentially contains 4 coordinates: $[x_{min}, y_{min}, x_{max}, y_{max}]$, and\n",
    "    * **Confidence Score(`tf.Variable`)** - which contains the confidence score for each detected box.\n",
    "\n",
    "\n",
    "**Now, let's plot the ground truth and predicted bounding boxes with its confidence probability score.**"
   ]
  },
  {
   "cell_type": "code",
   "execution_count": null,
   "metadata": {
    "colab": {
     "base_uri": "https://localhost:8080/",
     "height": 596
    },
    "executionInfo": {
     "elapsed": 1214,
     "status": "ok",
     "timestamp": 1632295173014,
     "user": {
      "displayName": "Kunal Dawn",
      "photoUrl": "https://lh3.googleusercontent.com/a-/AOh14GgUClJu3SyvWsHlkCXh8XgvLW6xAYsNgbWrgLQAZA=s64",
      "userId": "14354932350638389884"
     },
     "user_tz": -330
    },
    "id": "Dcm-CxSlXpRD",
    "outputId": "e5198f3c-6ebb-4936-b55b-a148d2fc8599",
    "scrolled": false
   },
   "outputs": [
    {
     "data": {
      "image/png": "[encoded data removed]",
      "text/plain": [
       "<Figure size 1080x720 with 1 Axes>"
      ]
     },
     "metadata": {},
     "output_type": "display_data"
    }
   ],
   "source": [
    "plot_groundtruth_prediction_boxes(ground_truths, detections)"
   ]
  },
  {
   "cell_type": "markdown",
   "metadata": {
    "id": "8qcK2JCqXpRE"
   },
   "source": [
    "You can clearly see that there are:\n",
    "- **six `(0-5)`** ground truth bounding boxes\n",
    "- **eight `(0-7)`** predicted bounding boxes (detections). "
   ]
  },
  {
   "cell_type": "markdown",
   "metadata": {
    "id": "qBjH6eC2XpRE"
   },
   "source": [
    "Next, we run **`check_iou_threshold`** for all eight detections. Let us prioritize each detection based on its confidence score, which is necessary for computing the average precision."
   ]
  },
  {
   "cell_type": "code",
   "execution_count": null,
   "metadata": {
    "colab": {
     "base_uri": "https://localhost:8080/"
    },
    "executionInfo": {
     "elapsed": 704,
     "status": "ok",
     "timestamp": 1632295178325,
     "user": {
      "displayName": "Kunal Dawn",
      "photoUrl": "https://lh3.googleusercontent.com/a-/AOh14GgUClJu3SyvWsHlkCXh8XgvLW6xAYsNgbWrgLQAZA=s64",
      "userId": "14354932350638389884"
     },
     "user_tz": -330
    },
    "id": "RYKcr6EXXpRE",
    "outputId": "2c18d678-9c81-4389-aff5-a010409c1eb6"
   },
   "outputs": [
    {
     "name": "stdout",
     "output_type": "stream",
     "text": [
      "Predicted Bounding Box index: 5, prob: 0.99\n",
      "Is any g-truth box has IoU more than 0.5: True\n",
      "The g-truth that has maximum IoU with pred-box, 5(0.99): 5\n",
      "------------------------------------------------------------\n",
      "Predicted Bounding Box index: 4, prob: 0.89\n",
      "Is any g-truth box has IoU more than 0.5: True\n",
      "The g-truth that has maximum IoU with pred-box, 4(0.89): 4\n",
      "------------------------------------------------------------\n",
      "Predicted Bounding Box index: 1, prob: 0.87\n",
      "Is any g-truth box has IoU more than 0.5: True\n",
      "The g-truth that has maximum IoU with pred-box, 1(0.87): 1\n",
      "------------------------------------------------------------\n",
      "Predicted Bounding Box index: 7, prob: 0.83\n",
      "Is any g-truth box has IoU more than 0.5: True\n",
      "The g-truth that has maximum IoU with pred-box, 7(0.83): 4\n",
      "------------------------------------------------------------\n",
      "Predicted Bounding Box index: 0, prob: 0.67\n",
      "Is any g-truth box has IoU more than 0.5: True\n",
      "The g-truth that has maximum IoU with pred-box, 0(0.67): 0\n",
      "------------------------------------------------------------\n",
      "Predicted Bounding Box index: 2, prob: 0.65\n",
      "Is any g-truth box has IoU more than 0.5: False\n",
      "The g-truth that has maximum IoU with pred-box, 2(0.65): 2\n",
      "------------------------------------------------------------\n",
      "Predicted Bounding Box index: 3, prob: 0.56\n",
      "Is any g-truth box has IoU more than 0.5: False\n",
      "The g-truth that has maximum IoU with pred-box, 3(0.56): 3\n",
      "------------------------------------------------------------\n",
      "Predicted Bounding Box index: 6, prob: 0.51\n",
      "Is any g-truth box has IoU more than 0.5: False\n",
      "The g-truth that has maximum IoU with pred-box, 6(0.51): 0\n",
      "------------------------------------------------------------\n"
     ]
    }
   ],
   "source": [
    "# Get the indices of sorted prediction confidence. \n",
    "# The negative sign is used to make it in decreasing order. \n",
    "# These indices will be used to prioritize detection. \n",
    "s_ind = [i for i,_ in sorted(enumerate(detections), key=lambda conf: conf[1][2], reverse=True)]\n",
    "\n",
    "all_gt_dboxes = tf.stack([gt[1] for gt in ground_truths])\n",
    "\n",
    "# The IoU threshold.\n",
    "iou_thres = 0.5\n",
    "\n",
    "for i, s_index in enumerate(s_ind):\n",
    "    print('Predicted Bounding Box index: {0}, prob: {1:0.3}'.format(s_index, detections[s_index][2].numpy()))\n",
    "    qualified_iou_thres, gt_index = check_iou_threshold(detections[s_index][1], all_gt_dboxes, \n",
    "                                                        intersection_threshold=iou_thres)\n",
    "    print('Is any g-truth box has IoU more than {0:.2}: {1}'.format(iou_thres, qualified_iou_thres))\n",
    "    print('The g-truth that has maximum IoU with pred-box, {0}({1:.2}): {2}'.format(s_index, detections[s_index][2].numpy(), \n",
    "                                                                                    gt_index))\n",
    "    \n",
    "    print('------'*10)"
   ]
  },
  {
   "cell_type": "markdown",
   "metadata": {
    "id": "9JLGXpzvXpRF"
   },
   "source": [
    "**The above output can be summarized as follows:**\n",
    "\n",
    "- Detections `5`, `4`, `1`, `7`, and `0` have IoU greater than the threshold `0.5` with ground-truth `5`, `4`, `1`, `4`, and `0`, respectively.\n",
    "\n",
    "\n",
    "- Detections `4` and `7` have the highest IoU with the same ground-truth, `4`. \n",
    "\n",
    "\n",
    "- Detections `2`, `3`, and `6` did not qualify the IoU threshold criteria. "
   ]
  },
  {
   "cell_type": "markdown",
   "metadata": {
    "id": "2eKq7k-BXpRF"
   },
   "source": [
    "### 1.2 True / False Positive and False Negative\n",
    "\n",
    "**Here, we will define these quantities in the context of Object Detection.**"
   ]
  },
  {
   "cell_type": "markdown",
   "metadata": {
    "id": "E-pwqVjKXpRF"
   },
   "source": [
    "### <font style=\"color:rgb(50,120,230)\"> True Positive (TP) </font>\n",
    "\n",
    "\n",
    "**Correctly detected objects.** A detection is a True Positive (TP) if it satisfies the following conditions:\n",
    "\n",
    "- **`confidence score > score threshold`:** Only those predicted boxes which have a confidence score greater than the score_treshold qualify for being a **True-Positive**.\n",
    "\n",
    "\n",
    "- **`IoU > IoU threshold`:** Only those detections whose IoU with any ground truth is greater than the IoU threshold are candidates for the right detection.  Further, it will qualify for the right detection if the ground truth (with maximum and more than threshold IoU) is not already assigned to any other prediction. \n",
    "Here, the detection with a higher confidence will be given more priority. \n",
    "\n",
    "For example, detection `4 (0.89)` and `7 (0.83)` both have maximum overlap (also greater than the threshold) with ground-truth `4`. However, one ground-truth cannot be associated with more than one prediction..  \n",
    "Hence, we consider the detection **`4 (0.89)` as true-positive** and detection **`7 (0.83)` as false-positive**. "
   ]
  },
  {
   "cell_type": "markdown",
   "metadata": {
    "id": "daYGtRBHXpRF"
   },
   "source": [
    "### <font style=\"color:rgb(50,120,230)\"> False Positive (FP)</font>\n",
    "\n",
    "\n",
    "**Incorrectly detected objects.** A detection is a False Positive (FP) if it satisfies the following conditions:\n",
    "\n",
    "- **`confidence score < score threshold`:** Any detection that has lower confidence than the score threshold will be considered **false-positive**. However, in our above plot, there is no such detection.  Also, there is no code implementation to check it in the notebook. This means we are getting detections after filtering based on the score threshold. \n",
    "\n",
    "- **`IoU < IoU threshold`:** Even if the detection has a high confidence (than score threshold), but it's IoU with some ground truth is not good enough (lower than IoU threshold), then the detection will be considered as false-positive. `IoU = 0` being only a special case.\n",
    "\n",
    "For example, Detections `2`, `3`, and `6` did not qualify the IoU threshold criteria, so these detections are false positives. \n",
    "\n",
    "Therfore, False-Positives are basically those detections that don't have sufficient IoU with any ground-truth boxes."
   ]
  },
  {
   "cell_type": "markdown",
   "metadata": {
    "id": "en2_fGriXpRF"
   },
   "source": [
    "### <font style=\"color:rgb(50,120,230)\"> False Negative (FN) </font>\n",
    "\n",
    "**GT boxes that do not have a corresponding detection with sufficient IoU and confidence score.**\n",
    "\n",
    "If a ground truth does not have a detection associated with it, then we consider the ground-truth as a false negative. \n",
    "\n",
    "For example, ground truth `2` and `3` do not have sufficient IoU with any of the detections, they are false negatives. \n",
    "\n",
    "**Note:** **True Positives** and **False Positives** are always in reference to the **detections**, whereas, **False Negatives** are in reference to the **ground-truths**."
   ]
  },
  {
   "cell_type": "markdown",
   "metadata": {
    "id": "JDC1Gl2xXpRG"
   },
   "source": [
    "The method `match()` calculates True Positives and False Positives using `check_iou_threshold()`"
   ]
  },
  {
   "cell_type": "code",
   "execution_count": 2,
   "metadata": {
    "id": "psxW8vzjXpRG"
   },
   "outputs": [],
   "source": [
    "def match(sorted_ind, detections, gts_per_image, intersection_threshold, debug=False):\n",
    "    \"\"\"\n",
    "    match detected boxes with ground-truth boxes.\n",
    "    \n",
    "    Parameters:\n",
    "        sorted_ind: Indicies corresponds to the sorted negative of confidence score.\n",
    "        \n",
    "        detections: Contains info on the detections predicted by the model.\n",
    "        \n",
    "        gts_per_image: A dictionary which maintains all ground truths based on ImageID.\n",
    "        \n",
    "        intersection_threshold: IoU threshold\n",
    "        \n",
    "        debug: boolean, to print logs. default is false.\n",
    "\n",
    "    Return value:\n",
    "        true_positives: A tensor of boolean values\n",
    "        false_positives: A tensor of boolean values\n",
    "    \n",
    "    \n",
    "    \n",
    "    \"\"\"\n",
    "    # Define true positives and false positives TF tensors.\n",
    "    true_positives = tf.Variable(tf.zeros((len(sorted_ind)), dtype=tf.float64))\n",
    "    false_positives = tf.Variable(tf.zeros((len(sorted_ind)), dtype=tf.float64))\n",
    "\n",
    "    # Prepare the boolean list for further check whether the object for that particular image\n",
    "    # has been already detected.\n",
    "    is_obj_already_detected = {key: np.full((len(gts_per_image[key]), ), False) for key in gts_per_image}\n",
    "\n",
    "    # For each box decide if it is a true positive or a false positive.\n",
    "    for i, box_num in enumerate(sorted_ind):\n",
    "        \n",
    "        # Get the detection (a list containing ImageID, BBox and conf. score) based on sorted_ind.\n",
    "        det = detections[box_num]\n",
    "        \n",
    "        # Get the detected BBox.\n",
    "        predicted_dbox = det[1]\n",
    "        \n",
    "        # Stack all ground truths based on the ImageID from det.\n",
    "        all_gt_dboxes = tf.stack([gt[1] for gt in gts_per_image[det[0]]])\n",
    "\n",
    "        is_pass_threshold, max_iou_index = check_iou_threshold(\n",
    "            predicted_dbox, all_gt_dboxes, intersection_threshold\n",
    "        )\n",
    "        # Note that \"true_positives\" and \"false_positives\" are updated with \"i\" and not with sorted index. \n",
    "        # This is being done so that higher confident detections should be prioritized. \n",
    "        if is_pass_threshold and not is_obj_already_detected[det[0]][max_iou_index]:\n",
    "            true_positives[i].assign(1)\n",
    "            is_obj_already_detected[det[0]][max_iou_index] = True\n",
    "            if debug:\n",
    "                print('Predicted box no {} is true positive.'.format(box_num))\n",
    "        else:\n",
    "            false_positives[i].assign(1)\n",
    "            if debug:\n",
    "                print('Predicted box no {} is false positive.'.format(box_num))\n",
    "\n",
    "    return true_positives, false_positives"
   ]
  },
  {
   "cell_type": "markdown",
   "metadata": {
    "id": "f4lCzGekXpRG"
   },
   "source": [
    "**Let us call `match` with debug true.**"
   ]
  },
  {
   "cell_type": "code",
   "execution_count": null,
   "metadata": {
    "colab": {
     "base_uri": "https://localhost:8080/"
    },
    "executionInfo": {
     "elapsed": 643,
     "status": "ok",
     "timestamp": 1632295255099,
     "user": {
      "displayName": "Kunal Dawn",
      "photoUrl": "https://lh3.googleusercontent.com/a-/AOh14GgUClJu3SyvWsHlkCXh8XgvLW6xAYsNgbWrgLQAZA=s64",
      "userId": "14354932350638389884"
     },
     "user_tz": -330
    },
    "id": "kHvCM-tEXpRG",
    "outputId": "0921007a-c742-42f5-f1d3-be773ec386ba"
   },
   "outputs": [
    {
     "name": "stdout",
     "output_type": "stream",
     "text": [
      "Predicted box no 5 is true positive.\n",
      "Predicted box no 4 is true positive.\n",
      "Predicted box no 1 is true positive.\n",
      "Predicted box no 7 is false positive.\n",
      "Predicted box no 0 is true positive.\n",
      "Predicted box no 2 is false positive.\n",
      "Predicted box no 3 is false positive.\n",
      "Predicted box no 6 is false positive.\n",
      "\n",
      "True positives: [1. 1. 1. 0. 1. 0. 0. 0.], \n",
      "False positives: [0. 0. 0. 1. 0. 1. 1. 1.]\n"
     ]
    }
   ],
   "source": [
    "gts_per_image = defaultdict(list)\n",
    "for gt in ground_truths:\n",
    "    gts_per_image[gt[0]].append(gt)\n",
    "\n",
    "t_positive, f_positive = match(sorted_ind=s_ind, \n",
    "                               detections=detections, \n",
    "                               gts_per_image=gts_per_image, \n",
    "                               intersection_threshold=iou_thres, \n",
    "                               debug=True)\n",
    "\n",
    "print('\\nTrue positives: {}, \\nFalse positives: {}'.format(t_positive.numpy(), f_positive.numpy()))"
   ]
  },
  {
   "cell_type": "markdown",
   "metadata": {
    "id": "dmAl2GRlXpRH"
   },
   "source": [
    "The above output identifies the true positives and false positives.\n",
    "\n",
    "**Note:** **`true_positives`** and **`false_positives`** tensors are not ordered based on the actual detection number but on the sorted (decreasing order) confidence score. "
   ]
  },
  {
   "cell_type": "markdown",
   "metadata": {
    "id": "gemaUZ1rXpRH"
   },
   "source": [
    "### 1.3. Precision / Recall\n",
    "\n",
    "\n",
    "### <font style=\"color:rgb(50,120,230)\">Precision</font>\n",
    "\n",
    "Precision is the ratio of true positives to the sum of true positives and false positives in the obtained results. As you can see, the sum of `TP` and `FP` is equal to total detections. In other words, precision is the fraction of total detections that were correct. Mathematically it is written as follows:\n",
    "\n",
    "$$ \\text{precision} = \\frac{\\text{TP}}{\\text{TP} + \\text{FP}} =\n",
    "\\frac{\\text{TP}}{D},$$\n",
    "   where $D$ is the total number of detections.\n",
    "\n",
    "\n",
    "### <font style=\"color:rgb(50,120,230)\">Recall</font>\n",
    "\n",
    "Recall is the ratio of true positives to the sum of true positives and false negatives. The sum of true positives and false negatives is nothing but the total number of ground-truths. In other words, recall is the fraction of ground truth bounding boxes that were correctly detected. Mathematically it is written as follows:\n",
    "\n",
    " $$\\text{recall} = \\frac{\\text{TP}}{\\text{TP} + \\text{FN}} =\n",
    "  \\frac{\\text{TP}}{G},$$\n",
    " where $G$ is the total number of ground-truth objects."
   ]
  },
  {
   "cell_type": "markdown",
   "metadata": {
    "id": "JYheesrKXpRH"
   },
   "source": [
    "## 2 Average Precision Algorithm\n",
    "\n",
    "Thus far, we have only discussed the components of the average precision algorithm intuitively. Let's now write the algorithm formally.\n",
    "\n",
    "**Computation pipeline in the object detection context is the following:**\n",
    "\n",
    "1. For a given confidence threshold:\n",
    "     * Select detections with confidences higher than the **confidence threshold**\n",
    "     * Find the correspondence between the detections and ground truths:\n",
    "         * Sort the detections according to their scores in descending order\n",
    "         * Compute the **Intersection over Union (IoU)** of each detection box with all the GT\n",
    "           bounding boxes for that **ImageID**.\n",
    "         * For each detection, find the ground truth (for that **Image**) with the highest IoU higher than the\n",
    "           **IoU threshold**\n",
    "     * Define and count **true positives, false positives and false negatives** values.\n",
    "         * All detections associated with ground truths (for that **Image**) that have only one match\n",
    "           are considered **true positives**\n",
    "         * In case the ground truth object has more than one associated detection:\n",
    "             - The associated detection having the highest score is considered **true\n",
    "               positives**\n",
    "             - Other detections for that **Image** are considered as **false positives**\n",
    "         * All detections that have no associated ground truth objects (due to too\n",
    "           low IoUs) are considered **false positives**\n",
    "         * All ground truths that have no associated predictions are **false negatives**. \n",
    "     * Calculate **recall** and **precision** with the given numbers of **TP, FP** and **ground\n",
    "       truth objects**\n",
    "2. After step 1, we have **precision** at some **recall points** - interpolate the\n",
    "   obtained precision at all other points\n",
    "3. Calculate the **Average Precision (AP)** as the area under the interpolated curve\n",
    "\n",
    "While computing pairs of recall and precision at confidence thresholds, we\n",
    "can plot a precision-recall curve: \n",
    "- `x-axis` is recall \n",
    "- `y-axis` - precision.\n",
    "\n",
    "### 2.1 11-Point Interpolation\n",
    "\n",
    "In practice, researchers typically use an interpolated version of the recall-precision curve. In this case, we do not estimate the recall-precision pairs for every possible confidence threshold. Instead, we select some points, measure the recall and precision in them, and interpolate all the values in between. To compute the interpolated precision, we use the maximum value for the specified recall level:\n",
    "\n",
    "$$p_{\\text{interp}}(r) = \\underset{r':r'\\geq r}\\max{p(r')}$$\n",
    "\n",
    "After defining all the components, we can evaluate the mean average precision value. According to [The PASCAL Visual Object Classes (VOC) Challenge](http://homepages.inf.ed.ac.uk/ckiw/postscript/ijcv_voc09.pdf), the\n",
    "mean precision at a set of eleven equal recalls defines the AP:\n",
    "\n",
    "$$AP_{11-points} = \\frac{1}{11}\\sum_{r\\in{\\{0, 0.1,...,1\\}}}{p_{\\text{interp}}(r)}$$\n",
    "\n",
    "Thus, AP summarizes the interpolated precisions at `11` recall areas from  `0` to `1: 0.0, 0.1, ..., 1`.\n",
    "\n",
    "### 2.2 Interpolating All Points\n",
    "\n",
    "Instead of interpolating only in the 11 equally spaced points, we could interpolate through all points as follows:\n",
    "\n",
    "$$p_{\\text{interp}}(r_{n+1}) = \\underset{r':r'\\geq r_{n+1}}\\max{p(r')}$$\n",
    "\n",
    "According to the [The PASCAL Visual Object Classes (VOC) 2010 Challenge](http://host.robots.ox.ac.uk/pascal/VOC/voc2010/devkit_doc_08-May-2010.pdf) metric, AP is defined as:\n",
    "\n",
    "$$AP_{all-points} = \\sum_{n=0}{(r_{n+1} - r_{n})p_{\\text{interp}}(r_{n+1})}$$\n",
    "\n",
    "**So now let's implement a Class that we can use to compute this metric.**"
   ]
  },
  {
   "cell_type": "code",
   "execution_count": null,
   "metadata": {
    "id": "lxtudf4iXpRH"
   },
   "outputs": [],
   "source": [
    "# The core class for running average precision pipeline.\n",
    "class AveragePrecisionEvaluator:\n",
    "    def __init__(self, intersection_threshold=0.5, use_07_metric=False, points_number=11, debug=False):\n",
    "        \n",
    "        # Keep track of all ground truths per ImageID.\n",
    "        self.gts = defaultdict(list)\n",
    "        # Create 11 recall points, on these points precesion will be interpolated. \n",
    "        self.recall_levels = tf.cast(tf.linspace(0., 1., points_number), dtype=tf.float64)\n",
    "        # Predefined intersection threshold.\n",
    "        self.intersection_threshold = intersection_threshold\n",
    "        # Init recalls and precisions to fill them with approprite values in run_ap_calculation method.\n",
    "        self.recalls = None\n",
    "        self.precisions = None\n",
    "        # Init average precision for futher computation\n",
    "        self.average_precision = 0.\n",
    "        self.true_positives = None\n",
    "        self.false_positives = None\n",
    "        self.false_negatives = None\n",
    "        self.use_07_metric = use_07_metric\n",
    "        self.debug = debug\n",
    "        \n",
    "        self.precision_levels = tf.Variable(tf.zeros((points_number), dtype=tf.float64))\n",
    "            \n",
    "\n",
    "    # calculate ap\n",
    "    def run_ap_calculation(self, detections, ground_truths):\n",
    "        \"\"\"\n",
    "            Initiate AP calculation process\n",
    "\n",
    "            Parameters:\n",
    "            \n",
    "                detections: Contains info on the detections predicted by the model.\n",
    "                            Each detection is a list of ImageID(str), BBox(tf.Variable)\n",
    "                            and conf. score(tf.Variable)\n",
    "        \n",
    "                ground_truths: Contains info on the ground truth objects.\n",
    "                               Each ground truth is a list of ImageID(str), BBox(tf.Variable)\n",
    "\n",
    "            Return value:\n",
    "                VOC mean average precision\n",
    "        \"\"\"\n",
    "        # Sort predicted_dboxes based on their confidence scores\n",
    "        sorted_ind = [i for i,_ in sorted(enumerate(detections), key=lambda conf: conf[1][2], reverse=True)]\n",
    "\n",
    "        # Initialize true positives and false positives TF tensors with 0 for each detected object.\n",
    "        true_positives = tf.Variable(tf.zeros((len(sorted_ind)), dtype=tf.float64))\n",
    "        false_positives = tf.Variable(tf.zeros((len(sorted_ind)), dtype=tf.float64))\n",
    "\n",
    "        if len(ground_truths) == 0:\n",
    "            false_positives = tf.Variable(tf.ones((len(sorted_ind)), dtype=tf.float64))\n",
    "        \n",
    "        else:\n",
    "            for g in ground_truths:\n",
    "                self.gts[g[0]].append(g)\n",
    "            # Get filled true positives and false positives TF tensors.\n",
    "            true_positives, false_positives = match(\n",
    "                sorted_ind, detections, self.gts, self.intersection_threshold\n",
    "            )\n",
    "\n",
    "        # Get true positives cumulative sum to obtain its value.\n",
    "        self.true_positives = tf.math.cumsum(true_positives, axis=0)\n",
    "\n",
    "        # Get false positives cumulative sum to obtain its value.\n",
    "        self.false_positives = tf.math.cumsum(false_positives, axis=0)\n",
    "\n",
    "\n",
    "        # Calculate precisions.\n",
    "        self.precisions = self.true_positives / (\n",
    "            self.false_positives + self.true_positives + np.finfo(float).eps\n",
    "        )\n",
    "\n",
    "        # Calculate recalls.\n",
    "        self.recalls = self.true_positives / len(ground_truths)\n",
    "        \n",
    "        if self.debug:\n",
    "            print(\"\\n{0}run_ap_calculation{0}\".format('--'*20))\n",
    "            print('true positives and false positives returned from the \"match\" method:'\n",
    "                  '\\ntrue_positives:\\t\\t{}\\nfalse_positives:\\t{}'.format(true_positives.numpy(), \n",
    "                                                                       false_positives.numpy()))\n",
    "            print('\\ntrue positives and false positives after cumulative sum:'\n",
    "                  '\\nself.true_positives:\\t{}\\nself.false_positives:\\t{}'.format(self.true_positives, \n",
    "                                                                                 self.false_positives))\n",
    "    \n",
    "            print('\\nprecision calculated using true positive and false positive:\\n'\n",
    "                  'self.precisions:\\t{}'.format(self.precisions))\n",
    "            print('\\nrecall calculated using true positive and false negative:\\n'\n",
    "                  'self.recalls:\\t\\t{}'.format(self.recalls))\n",
    "\n",
    "        # Return VOC mAP value.\n",
    "        return self.get_voc_ap()\n",
    "\n",
    "    # calculate VOC mAP\n",
    "    def get_voc_ap(self):\n",
    "        \"\"\"\n",
    "            Evaluates VOC Mean Average Precision\n",
    "\n",
    "        \"\"\"\n",
    "        # Define average precision tensor.\n",
    "        self.average_precision = tf.Variable(0, dtype=tf.float64)\n",
    "        \n",
    "        # Check whether recalls and precisions values were recalculated.\n",
    "        if self.precisions is None or self.recalls is None:\n",
    "            self.average_precision = tf.Variable(np.nan)\n",
    "            return self.average_precision\n",
    "        \n",
    "        if self.use_07_metric:\n",
    "\n",
    "            # Iterate over recall levels.\n",
    "            for i, recall_level in enumerate(self.recall_levels):\n",
    "                # Get tensor of boolean values where recalls are greater or equal to recall level.\n",
    "                recalls_check = tf.math.greater_equal(self.recalls, recall_level)\n",
    "\n",
    "                # Check the sum of True values from recalls_check tensor.\n",
    "                if tf.math.reduce_sum(tf.cast(recalls_check, tf.float64)) == 0.:\n",
    "                    val = tf.Variable(0., dtype=tf.float64)\n",
    "                else:\n",
    "                    # Precision needs to be interpolated at different points of recall. \n",
    "                    # Precision at any point of recall will be equal to maximum precision \n",
    "                    # among all precisions correspond to all recalls greater than or equal to the recall point. \n",
    "                    val = tf.math.reduce_max(self.precisions[recalls_check])\n",
    "\n",
    "                self.precision_levels[i].assign(val)\n",
    "\n",
    "                # Update average_precision with value.\n",
    "                self.average_precision = self.average_precision + val\n",
    "\n",
    "            # Get mean average precision.\n",
    "            self.average_precision = self.average_precision / float(self.recall_levels.shape[0])\n",
    "\n",
    "            \n",
    "            print(\"\\n{0}get_voc_ap_11_points{0}\".format('--'*21))           \n",
    "            print('\\n{} recall points:\\n{}'.format(len(self.recall_levels), self.recall_levels))\n",
    "            print('\\n{}-points interpolated precision:\\n{}'.format(len(self.recall_levels), \n",
    "                                                                   self.precision_levels.numpy()))\n",
    "            print('\\n{}-points average precision:\\t{}'.format(len(self.recall_levels), \n",
    "                                                              self.average_precision))\n",
    "                \n",
    "        else:\n",
    "            \n",
    "            mean_recall = tf.concat([[0.], self.recalls, [1.]], axis=-1)\n",
    "            mean_precision = tf.concat([[0.], self.precisions, [0.]], axis=-1)\n",
    "            \n",
    "            # Compute the precision envelope.\n",
    "            for i in range(mean_precision.shape[0] - 1, 0, -1):\n",
    "                changed_precision = tf.maximum(mean_precision[i - 1], mean_precision[i])\n",
    "                mean_precision = tf.tensor_scatter_nd_update(mean_precision, [[i-1]], [changed_precision])\n",
    "                      \n",
    "            # To calculate area under PR curve, look for points\n",
    "            # where X axis (recall) changes value.    \n",
    "            idx = tf.squeeze(tf.where(mean_recall[1:] != mean_recall[:-1]), axis=-1)\n",
    "\n",
    "            \n",
    "            self.average_precision= tf.math.reduce_sum(\n",
    "                                        tf.multiply((tf.gather(mean_recall,idx+1) - tf.gather(mean_recall,idx)),\n",
    "                                            tf.gather(mean_precision, idx+1)))\n",
    "            \n",
    "            \n",
    "            self.recall_levels = mean_recall[:-1]\n",
    "            self.precision_levels = mean_precision[:-1]\n",
    "            \n",
    "            \n",
    "            print(\"\\n{0}get_voc_ap_all_points{0}\".format('--'*21))\n",
    "            print('\\nRecall points:\\n{}'.format(self.recall_levels))\n",
    "            print('\\nAll-points interpolated precision:\\n{}'.format(self.precision_levels.numpy()))\n",
    "            print('\\nAll-points average precision:\\t{}'.format(self.average_precision.numpy()))\n",
    "                \n",
    "\n",
    "        return self.average_precision\n",
    "\n",
    "    # Plot precision recall curve.\n",
    "    def precision_recall_curve(self):\n",
    "        \"\"\"\n",
    "            Precision-recall curve visualization for specified class\n",
    "\n",
    "            Parameters:\n",
    "                experiment_name: title of the running experiment\n",
    "        \"\"\"\n",
    "        # Plot the curve.\n",
    "        fig, ax = plt.subplots(figsize=(15,10))\n",
    "        ax.set_ylim([-0.05, 1.05])\n",
    "        \n",
    "        if self.use_07_metric:\n",
    "            \n",
    "            ax.plot(self.recalls, self.precisions, label='precision-recall')\n",
    "            ax.plot(self.recall_levels.numpy(), self.precision_levels.numpy(), '*', \n",
    "                     label='{}-points interpolation'.format(len(self.recall_levels)))\n",
    "            ax.set_xlabel('recall')\n",
    "            ax.set_ylabel('precision')\n",
    "            ax.legend(loc='best')\n",
    "\n",
    "            plt.show(block=block_plot)\n",
    "        \n",
    "        else:\n",
    "            recalls = self.recall_levels.numpy()\n",
    "            interp_prec = self.precision_levels.numpy()\n",
    "            \n",
    "            ids = np.where(recalls[1:]!=recalls[:-1])[0]\n",
    "            unique_precs = np.unique(interp_prec[ids+1])[::-1]\n",
    "            \n",
    "            recall_st = []\n",
    "            recall_end = []\n",
    "\n",
    "            for un_pr in unique_precs:\n",
    "                id_pr = np.where(np.isclose(interp_prec,un_pr))[0]\n",
    "                recall_st.append(recalls[id_pr][0])\n",
    "                recall_end.append(recalls[id_pr][-1])\n",
    "                \n",
    "            ax.plot(self.recalls, self.precisions, 'b', linewidth=3, label='precision-recall')\n",
    "            ax.plot(self.recall_levels.numpy(), self.precision_levels.numpy(), 'r--', linewidth=3,\n",
    "                     label='All-points interpolation')\n",
    "                \n",
    "            for i in range(len(unique_precs)):\n",
    "                \n",
    "                width   = recall_end[i]-recall_st[i]\n",
    "                height  = unique_precs[i]\n",
    "\n",
    "                label   = 'A{}'.format(i+1)\n",
    "                x_label = recall_st[i] + width/2.5\n",
    "                y_label = height/2\n",
    "\n",
    "                ax.add_patch(\n",
    "                        patches.Rectangle(\n",
    "                            (recall_st[i], 0), width, height,\n",
    "                            fill=False, color='g',linewidth = 2\n",
    "                        ) \n",
    "                    )\n",
    "\n",
    "                ax.text(x_label, y_label, label, color='g', fontsize=30,\n",
    "                                bbox=dict(facecolor='none', edgecolor='g'))\n",
    "                \n",
    "                \n",
    "\n",
    "            \n",
    "            ax.set_xlabel('recall')\n",
    "            ax.set_ylabel('precision')\n",
    "            ax.legend(loc='best')\n",
    "\n",
    "            plt.show(block=block_plot)"
   ]
  },
  {
   "cell_type": "markdown",
   "metadata": {
    "id": "mbS3MUmBXpRI"
   },
   "source": [
    "## 3 Check the Implementation\n",
    "\n",
    "Next we calculate the average precision (AP) for the detections and ground-truth, using the above class."
   ]
  },
  {
   "cell_type": "markdown",
   "metadata": {
    "id": "9IHsjOd5XpRI"
   },
   "source": [
    "### 3.1 11-points Precision\n",
    "\n",
    "**The default recall points are `11`.**"
   ]
  },
  {
   "cell_type": "code",
   "execution_count": null,
   "metadata": {
    "colab": {
     "base_uri": "https://localhost:8080/",
     "height": 1000
    },
    "executionInfo": {
     "elapsed": 1027,
     "status": "ok",
     "timestamp": 1632295277765,
     "user": {
      "displayName": "Kunal Dawn",
      "photoUrl": "https://lh3.googleusercontent.com/a-/AOh14GgUClJu3SyvWsHlkCXh8XgvLW6xAYsNgbWrgLQAZA=s64",
      "userId": "14354932350638389884"
     },
     "user_tz": -330
    },
    "id": "Uj4-ZpmsXpRI",
    "outputId": "2e974547-86e3-40d5-f48d-46cdedad7b55",
    "scrolled": false
   },
   "outputs": [
    {
     "name": "stdout",
     "output_type": "stream",
     "text": [
      "\n",
      "----------------------------------------run_ap_calculation----------------------------------------\n",
      "true positives and false positives returned from the \"match\" method:\n",
      "true_positives:\t\t[1. 1. 1. 0. 1. 0. 0. 0.]\n",
      "false_positives:\t[0. 0. 0. 1. 0. 1. 1. 1.]\n",
      "\n",
      "true positives and false positives after cumulative sum:\n",
      "self.true_positives:\t[1. 2. 3. 3. 4. 4. 4. 4.]\n",
      "self.false_positives:\t[0. 0. 0. 1. 1. 2. 3. 4.]\n",
      "\n",
      "precision calculated using true positive and false positive:\n",
      "self.precisions:\t[1.         1.         1.         0.75       0.8        0.66666667\n",
      " 0.57142857 0.5       ]\n",
      "\n",
      "recall calculated using true positive and false negative:\n",
      "self.recalls:\t\t[0.16666667 0.33333333 0.5        0.5        0.66666667 0.66666667\n",
      " 0.66666667 0.66666667]\n",
      "\n",
      "------------------------------------------get_voc_ap_11_points------------------------------------------\n",
      "\n",
      "11 recall points:\n",
      "[0.         0.1        0.2        0.30000001 0.40000001 0.5\n",
      " 0.60000002 0.69999999 0.80000001 0.90000004 1.        ]\n",
      "\n",
      "11-points interpolated precision:\n",
      "[1.  1.  1.  1.  1.  1.  0.8 0.  0.  0.  0. ]\n",
      "\n",
      "11-points average precision:\t0.6181818181818182\n"
     ]
    },
    {
     "data": {
      "image/png": "[encoded data removed]",
      "text/plain": [
       "<Figure size 1080x720 with 1 Axes>"
      ]
     },
     "metadata": {},
     "output_type": "display_data"
    }
   ],
   "source": [
    "ap_evaluator = AveragePrecisionEvaluator(use_07_metric=True,debug=True)\n",
    "_ = ap_evaluator.run_ap_calculation(detections, ground_truths)\n",
    "ap_evaluator.precision_recall_curve()"
   ]
  },
  {
   "cell_type": "markdown",
   "metadata": {
    "id": "n0Jc6IEhD3j9"
   },
   "source": [
    "### 3.2 All-points Interpolated Precision\n",
    "\n",
    "We now calculate the `All-points` average precision (`AP`)."
   ]
  },
  {
   "cell_type": "code",
   "execution_count": null,
   "metadata": {
    "id": "Tx-2UHyBD3j9",
    "outputId": "ccfd2cd8-9b0d-426f-dc51-8245f128fa19"
   },
   "outputs": [
    {
     "name": "stdout",
     "output_type": "stream",
     "text": [
      "\n",
      "----------------------------------------run_ap_calculation----------------------------------------\n",
      "true positives and false positives returned from the \"match\" method:\n",
      "true_positives:\t\t[1. 1. 1. 0. 1. 0. 0. 0.]\n",
      "false_positives:\t[0. 0. 0. 1. 0. 1. 1. 1.]\n",
      "\n",
      "true positives and false positives after cumulative sum:\n",
      "self.true_positives:\t[1. 2. 3. 3. 4. 4. 4. 4.]\n",
      "self.false_positives:\t[0. 0. 0. 1. 1. 2. 3. 4.]\n",
      "\n",
      "precision calculated using true positive and false positive:\n",
      "self.precisions:\t[1.         1.         1.         0.75       0.8        0.66666667\n",
      " 0.57142857 0.5       ]\n",
      "\n",
      "recall calculated using true positive and false negative:\n",
      "self.recalls:\t\t[0.16666667 0.33333333 0.5        0.5        0.66666667 0.66666667\n",
      " 0.66666667 0.66666667]\n",
      "\n",
      "------------------------------------------get_voc_ap_all_points------------------------------------------\n",
      "\n",
      "Recall points:\n",
      "[0.         0.16666667 0.33333333 0.5        0.5        0.66666667\n",
      " 0.66666667 0.66666667 0.66666667]\n",
      "\n",
      "All-points interpolated precision:\n",
      "[1.         1.         1.         1.         0.8        0.8\n",
      " 0.66666667 0.57142857 0.5       ]\n",
      "\n",
      "All-points average precision:\t0.6333333333333333\n"
     ]
    },
    {
     "data": {
      "image/png": "[encoded data removed]",
      "text/plain": [
       "<Figure size 1080x720 with 1 Axes>"
      ]
     },
     "metadata": {},
     "output_type": "display_data"
    }
   ],
   "source": [
    "ap_evaluator = AveragePrecisionEvaluator(debug=True)\n",
    "ap_evaluator.run_ap_calculation(detections, ground_truths)\n",
    "ap_evaluator.precision_recall_curve()"
   ]
  },
  {
   "cell_type": "markdown",
   "metadata": {
    "id": "YSoKZNFdXpRI"
   },
   "source": [
    "**Let's review the key points based on the results above:** \n",
    "\n",
    "- Detections are sorted in the descending order of confidence scores.\n",
    "\n",
    "\n",
    "- Detections are categorized as true positives (`TP`) or false positives (`FP`), using the `match()` method.\n",
    "\n",
    "\n",
    "- Cumulative true positives and false positives are calculated.\n",
    "\n",
    "\n",
    "- Cumulative false negatives are calculated using ground truth counts and cumulative true positives. \n",
    "\n",
    "\n",
    "- Precision and recall points are calculated using cumulative true positives, false positives, and false negatives. \n",
    "\n",
    "\n",
    "- Precision is interpolated at `11-points` of recall using, $p_{\\text{interp}}(r) = \\underset{r':r'\\geq r}\\max{p(r')}$.\n",
    "\n",
    "\n",
    "- Finally, average precision is calculated using, $AP = \\frac{1}{11}\\sum_{r\\in{\\{0, 0.1,...,1\\}}}{p_{\\text{interp}}(r)}$.\n"
   ]
  },
  {
   "cell_type": "markdown",
   "metadata": {
    "id": "Brm5p-1DD3j-"
   },
   "source": [
    "### 3.3 All-points Interpolated Precision Across Mutiple Images\n",
    "\n",
    "We will now calculate the **`All-points`** average precision **`(AP)`** across mutiple images. Here each image is associated with an `ImageID`. We have a total of `7` images, each associated with `ImageID`s of `1, 2, ..., 7` respectively.\n",
    "\n",
    "For instance, we have associated **Image 1** with **ImageID** as **`1`**. Now, **Image 1** has two **ground-truths** with the following box coordinates:\n",
    "\n",
    "`[25,   16,  63,  72]`\n",
    "`[129, 123, 170, 185]`\n",
    "\n",
    "Also, it has three predictions with box cooridates:\n",
    "\n",
    "`[  5,  67,  36, 115]`\n",
    "`[119, 111, 159, 178]`\n",
    "`[124,   9, 173,  76]`\n",
    "\n",
    "with confidence scores of `0.88`, `0.70` and `0.80` respectively.\n",
    "\n",
    "Similarly, for the other `Image ID`s as well."
   ]
  },
  {
   "cell_type": "code",
   "execution_count": null,
   "metadata": {
    "id": "MLPuCrIPXpRJ",
    "scrolled": false
   },
   "outputs": [],
   "source": [
    "groundTruths =  [\n",
    "                 ['1', tf.Variable([25,  16,  63,  72],  dtype=tf.float32)], \n",
    "                 ['1', tf.Variable([129, 123, 170, 185], dtype=tf.float32)],\n",
    "                 ['2', tf.Variable([123,  11, 166,  66], dtype=tf.float32)],\n",
    "                 ['2', tf.Variable([ 38, 132,  97, 177], dtype=tf.float32)],\n",
    "                 ['3', tf.Variable([ 16,  14,  51,  62], dtype=tf.float32)],\n",
    "                 ['3', tf.Variable([123,  30, 172,  74], dtype=tf.float32)],\n",
    "                 ['3', tf.Variable([ 99, 139, 146, 186], dtype=tf.float32)],\n",
    "                 ['4', tf.Variable([ 53,  42,  93,  94], dtype=tf.float32)],\n",
    "                 ['4', tf.Variable([154,  43, 185,  77], dtype=tf.float32)],\n",
    "                 ['5', tf.Variable([ 59,  31, 103,  82], dtype=tf.float32)],\n",
    "                 ['5', tf.Variable([ 48, 128,  82, 180], dtype=tf.float32)],\n",
    "                 ['6', tf.Variable([ 36,  89,  88, 165], dtype=tf.float32)],\n",
    "                 ['6', tf.Variable([ 62,  58, 106, 125], dtype=tf.float32)],\n",
    "                 ['7', tf.Variable([ 28,  31,  83,  94], dtype=tf.float32)],\n",
    "                 ['7', tf.Variable([ 58,  67, 108, 125], dtype=tf.float32)]\n",
    "                ]\n",
    "\n",
    "detections = [\n",
    "                 ['1', tf.Variable([  5,  67,  36, 115], dtype=tf.float32), tf.Variable(.88)], \n",
    "                 ['1', tf.Variable([119, 111, 159, 178], dtype=tf.float32), tf.Variable(.70)],\n",
    "                 ['1', tf.Variable([124,   9, 173,  76], dtype=tf.float32), tf.Variable(.80)],\n",
    "                 ['2', tf.Variable([ 64, 111, 128, 169], dtype=tf.float32), tf.Variable(.71)],\n",
    "                 ['2', tf.Variable([ 26, 140,  86, 187], dtype=tf.float32), tf.Variable(.54)],\n",
    "                 ['2', tf.Variable([ 19,  18,  62,  53], dtype=tf.float32), tf.Variable(.74)],\n",
    "                 ['3', tf.Variable([109,  15, 186,  54], dtype=tf.float32), tf.Variable(.18)],\n",
    "                 ['3', tf.Variable([ 86,  63, 132, 108], dtype=tf.float32), tf.Variable(.67)],\n",
    "                 ['3', tf.Variable([160,  62, 196, 115], dtype=tf.float32), tf.Variable(.38)],\n",
    "                 ['3', tf.Variable([105, 131, 152, 178], dtype=tf.float32), tf.Variable(.91)],\n",
    "                 ['3', tf.Variable([ 18, 148,  58, 192], dtype=tf.float32), tf.Variable(.44)],\n",
    "                 ['4', tf.Variable([ 83,  28, 111,  54], dtype=tf.float32), tf.Variable(.35)],\n",
    "                 ['4', tf.Variable([ 28,  68,  70, 135], dtype=tf.float32), tf.Variable(.78)],\n",
    "                 ['4', tf.Variable([ 87,  89, 112, 128], dtype=tf.float32), tf.Variable(.45)],\n",
    "                 ['4', tf.Variable([ 10, 155,  70, 181], dtype=tf.float32), tf.Variable(.14)],\n",
    "                 ['5', tf.Variable([ 50,  38,  78,  84], dtype=tf.float32), tf.Variable(.62)],\n",
    "                 ['5', tf.Variable([ 95,  11, 148,  39], dtype=tf.float32), tf.Variable(.44)],\n",
    "                 ['5', tf.Variable([ 29, 131, 101, 160], dtype=tf.float32), tf.Variable(.95)],\n",
    "                 ['5', tf.Variable([ 29, 163, 101, 192], dtype=tf.float32), tf.Variable(.23)],\n",
    "                 ['6', tf.Variable([ 43,  48, 117,  86], dtype=tf.float32), tf.Variable(.45)],\n",
    "                 ['6', tf.Variable([ 17, 155,  46, 190], dtype=tf.float32), tf.Variable(.84)],\n",
    "                 ['6', tf.Variable([ 95, 110, 120, 152], dtype=tf.float32), tf.Variable(.43)],\n",
    "                 ['7', tf.Variable([ 16,  20, 117, 108], dtype=tf.float32), tf.Variable(.48)],\n",
    "                 ['7', tf.Variable([ 33, 116,  70, 165], dtype=tf.float32), tf.Variable(.95)]\n",
    "                ]"
   ]
  },
  {
   "cell_type": "code",
   "execution_count": null,
   "metadata": {
    "id": "DAVobcwHD3j-",
    "outputId": "abb562a0-a6d0-4f62-8e65-ebfa74d60ef5"
   },
   "outputs": [
    {
     "name": "stdout",
     "output_type": "stream",
     "text": [
      "\n",
      "----------------------------------------run_ap_calculation----------------------------------------\n",
      "true positives and false positives returned from the \"match\" method:\n",
      "true_positives:\t\t[1. 0. 1. 0. 0. 0. 0. 0. 0. 1. 0. 1. 1. 1. 0. 0. 0. 0. 0. 0. 0. 0. 1. 0.]\n",
      "false_positives:\t[0. 1. 0. 1. 1. 1. 1. 1. 1. 0. 1. 0. 0. 0. 1. 1. 1. 1. 1. 1. 1. 1. 0. 1.]\n",
      "\n",
      "true positives and false positives after cumulative sum:\n",
      "self.true_positives:\t[1. 1. 2. 2. 2. 2. 2. 2. 2. 3. 3. 4. 5. 6. 6. 6. 6. 6. 6. 6. 6. 6. 7. 7.]\n",
      "self.false_positives:\t[ 0.  1.  1.  2.  3.  4.  5.  6.  7.  7.  8.  8.  8.  8.  9. 10. 11. 12.\n",
      " 13. 14. 15. 16. 16. 17.]\n",
      "\n",
      "precision calculated using true positive and false positive:\n",
      "self.precisions:\t[1.         0.5        0.66666667 0.5        0.4        0.33333333\n",
      " 0.28571429 0.25       0.22222222 0.3        0.27272727 0.33333333\n",
      " 0.38461538 0.42857143 0.4        0.375      0.35294118 0.33333333\n",
      " 0.31578947 0.3        0.28571429 0.27272727 0.30434783 0.29166667]\n",
      "\n",
      "recall calculated using true positive and false negative:\n",
      "self.recalls:\t\t[0.06666667 0.06666667 0.13333333 0.13333333 0.13333333 0.13333333\n",
      " 0.13333333 0.13333333 0.13333333 0.2        0.2        0.26666667\n",
      " 0.33333333 0.4        0.4        0.4        0.4        0.4\n",
      " 0.4        0.4        0.4        0.4        0.46666667 0.46666667]\n",
      "\n",
      "------------------------------------------get_voc_ap_all_points------------------------------------------\n",
      "\n",
      "Recall points:\n",
      "[0.         0.06666667 0.06666667 0.13333333 0.13333333 0.13333333\n",
      " 0.13333333 0.13333333 0.13333333 0.13333333 0.2        0.2\n",
      " 0.26666667 0.33333333 0.4        0.4        0.4        0.4\n",
      " 0.4        0.4        0.4        0.4        0.4        0.46666667\n",
      " 0.46666667]\n",
      "\n",
      "All-points interpolated precision:\n",
      "[1.         1.         0.66666667 0.66666667 0.5        0.42857143\n",
      " 0.42857143 0.42857143 0.42857143 0.42857143 0.42857143 0.42857143\n",
      " 0.42857143 0.42857143 0.42857143 0.4        0.375      0.35294118\n",
      " 0.33333333 0.31578947 0.30434783 0.30434783 0.30434783 0.30434783\n",
      " 0.29166667]\n",
      "\n",
      "All-points average precision:\t0.24568668046928915\n"
     ]
    },
    {
     "data": {
      "image/png": "[encoded data removed]",
      "text/plain": [
       "<Figure size 1080x720 with 1 Axes>"
      ]
     },
     "metadata": {},
     "output_type": "display_data"
    }
   ],
   "source": [
    "ap_evaluator = AveragePrecisionEvaluator(intersection_threshold=0.3, debug=True)\n",
    "ap_evaluator.run_ap_calculation(detections,groundTruths)\n",
    "ap_evaluator.precision_recall_curve()"
   ]
  },
  {
   "cell_type": "markdown",
   "metadata": {
    "id": "kWPKGHdpXpRJ"
   },
   "source": [
    "## 4 Mean Average Precision (mAP)\n",
    "\n",
    "In the previous section, Average-Precision is implemented for a single class because we wanted to focus just on the concept of average precision. \n",
    "\n",
    "If there is more than one class, the **mean average precision (`mAP`)** is defined as the mean of the average precision across all classes. Formally, it is written as follows:\n",
    "\n",
    "$$\n",
    "mAP =  \\frac{1}{N}\\sum_{class=0}^{N}{AP_{class}}\n",
    "$$\n",
    "\n",
    "Extending this metric to multiple classes is just an implementation detail and quite easy to do. We will use this metric in a subsequent notebook to quantify the accuracy of object detection results."
   ]
  },
  {
   "cell_type": "markdown",
   "metadata": {
    "id": "emmMXrKSD3j-"
   },
   "source": [
    "## 5  References\n",
    "\n",
    "* https://github.com/rafaelpadilla/Object-Detection-Metrics\n",
    "\n",
    "* http://host.robots.ox.ac.uk/pascal/VOC/voc2010/devkit_doc_08-May-2010.pdf\n",
    "\n",
    "* http://homepages.inf.ed.ac.uk/ckiw/postscript/ijcv_voc09.pdf"
   ]
  },
  {
   "cell_type": "code",
   "execution_count": null,
   "metadata": {},
   "outputs": [],
   "source": []
  }
 ],
 "metadata": {
  "colab": {
   "collapsed_sections": [],
   "name": "c4_07_19_Average_precision_V2.ipynb",
   "provenance": []
  },
  "kernelspec": {
   "display_name": "Python 3 (ipykernel)",
   "language": "python",
   "name": "python3"
  },
  "language_info": {
   "codemirror_mode": {
    "name": "ipython",
    "version": 3
   },
   "file_extension": ".py",
   "mimetype": "text/x-python",
   "name": "python",
   "nbconvert_exporter": "python",
   "pygments_lexer": "ipython3",
   "version": "3.8.13"
  },
  "latex_envs": {
   "LaTeX_envs_menu_present": true,
   "autoclose": false,
   "autocomplete": true,
   "bibliofile": "biblio.bib",
   "cite_by": "apalike",
   "current_citInitial": 1,
   "eqLabelWithNumbers": true,
   "eqNumInitial": 1,
   "hotkeys": {
    "equation": "Ctrl-E",
    "itemize": "Ctrl-I"
   },
   "labels_anchors": false,
   "latex_user_defs": false,
   "report_style_numbering": false,
   "user_envs_cfg": false
  },
  "toc": {
   "base_numbering": 1,
   "nav_menu": {},
   "number_sections": false,
   "sideBar": true,
   "skip_h1_title": false,
   "title_cell": "Table of Contents",
   "title_sidebar": "Contents",
   "toc_cell": false,
   "toc_position": {},
   "toc_section_display": true,
   "toc_window_display": false
  },
  "varInspector": {
   "cols": {
    "lenName": 16,
    "lenType": 16,
    "lenVar": 40
   },
   "kernels_config": {
    "python": {
     "delete_cmd_postfix": "",
     "delete_cmd_prefix": "del ",
     "library": "var_list.py",
     "varRefreshCmd": "print(var_dic_list())"
    },
    "r": {
     "delete_cmd_postfix": ") ",
     "delete_cmd_prefix": "rm(",
     "library": "var_list.r",
     "varRefreshCmd": "cat(var_dic_list()) "
    }
   },
   "types_to_exclude": [
    "module",
    "function",
    "builtin_function_or_method",
    "instance",
    "_Feature"
   ],
   "window_display": false
  }
 },
 "nbformat": 4,
 "nbformat_minor": 1
}
