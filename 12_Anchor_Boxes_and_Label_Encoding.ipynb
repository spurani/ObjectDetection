{
  "cells": [
    {
      "cell_type": "markdown",
      "metadata": {
        "id": "HiZ-t7qhonO_"
      },
      "source": [
        "<h1 style=\"font-size:30px;\">Encoding Labels using Anchors</h1>\n",
        "\n",
        "**The encoder block in the pipeline:**\n",
        "\n",
        "<img src='https://opencv.org/wp-content/uploads/2022/06/encoding_v2.png' width=700>\n",
        "<img src='https://opencv.org/wp-content/uploads/2022/06/pipeline_config_v3.png' width=700>\n",
        "\n"
      ]
    },
    {
      "cell_type": "markdown",
      "metadata": {
        "id": "UhF4TVe-GDQc"
      },
      "source": [
        "We are already familiar with encoding ground truth using the anchors' concept. In this notebook, we will go into the coding of it."
      ]
    },
    {
      "cell_type": "markdown",
      "metadata": {
        "id": "aNhvfwkNMOJ9"
      },
      "source": [
        "## Table of Contents\n",
        "\n",
        "* [1 Generating Anchors Across Scales and Aspect Ratios](#1-Generating-Anchors-Across-Scales-and-Aspect-Ratios)\n",
        "* [2 Encoding Ground-Truth wrt Anchors](#2-Encoding-Ground-Truth-wrt-Anchors)\n",
        "* [3 The DataEncoder Class](#3-The-DataEncoder-Class)"
      ]
    },
    {
      "cell_type": "code",
      "execution_count": null,
      "metadata": {
        "id": "-goiHHh_uTTd"
      },
      "outputs": [],
      "source": [
        "# required imports\n",
        "import os\n",
        "import requests\n",
        "from zipfile import ZipFile\n",
        "import tensorflow as tf\n",
        "import math\n",
        "import cv2\n",
        "import matplotlib.pyplot as plt\n",
        "import numpy as np"
      ]
    },
    {
      "cell_type": "markdown",
      "metadata": {
        "id": "DgC4pC1LsLu4"
      },
      "source": [
        "### Download Dependencies\n",
        "\n",
        "\n",
        "Let's download the script, `encoder_scripts/general_encoder.py`"
      ]
    },
    {
      "cell_type": "markdown",
      "metadata": {
        "id": "dyEJV0r03_a2"
      },
      "source": [
        "**The below code cell has a method for downloading a file.**"
      ]
    },
    {
      "cell_type": "code",
      "execution_count": null,
      "metadata": {
        "id": "sQfJsUi8hpSk"
      },
      "outputs": [],
      "source": [
        "def download_file(url, save_name):\n",
        "    \"\"\"\n",
        "    \"Download and save the file.\"\n",
        "\n",
        "    arguments:\n",
        "    url (str): URL path of the file.\n",
        "    save_name: (str): file path to save the downloaded file.\n",
        "    \"\"\"\n",
        "    file = requests.get(url)\n",
        "    open(save_name, 'wb').write(file.content)\n",
        "    print(f\"Downloaded {save_name}...\")\n",
        "    return"
      ]
    },
    {
      "cell_type": "markdown",
      "metadata": {
        "id": "rxnXr-gs5HBk"
      },
      "source": [
        "**The below method can use to unzip a zipped file.**"
      ]
    },
    {
      "cell_type": "code",
      "execution_count": null,
      "metadata": {
        "id": "LFkLeyiY5ITh"
      },
      "outputs": [],
      "source": [
        "def unzip(zip_file_path=None):\n",
        "    \"\"\"\n",
        "    \"Unzip the file\"\n",
        "\n",
        "    arguments:\n",
        "    zip_file_path (str): The zipped file path\n",
        "\n",
        "    \"\"\"\n",
        "    try:\n",
        "        with ZipFile(zip_file_path) as z:\n",
        "            z.extractall(\"./\")\n",
        "            print(f\"Extracted {zip_file_path}...\\n\")\n",
        "    except:\n",
        "        print(\"Invalid file\")\n",
        "\n",
        "    return"
      ]
    },
    {
      "cell_type": "code",
      "execution_count": null,
      "metadata": {
        "id": "RS0AMY3B5NPe",
        "outputId": "f9b8f9b1-73ae-4ea1-cda2-8c7c4cc06648",
        "colab": {
          "base_uri": "https://localhost:8080/"
        }
      },
      "outputs": [
        {
          "output_type": "stream",
          "name": "stdout",
          "text": [
            "Downloaded encoder_scripts.zip...\n",
            "Extracted encoder_scripts.zip...\n",
            "\n"
          ]
        }
      ],
      "source": [
        "if not os.path.exists('encoder_scripts'):\n",
        "    download_file(\n",
        "                  'https://www.dropbox.com/s/n6itt4qbitj8xce/encoder_scripts.zip?dl=1',\n",
        "                  'encoder_scripts.zip'\n",
        "                 )\n",
        "\n",
        "    unzip('encoder_scripts.zip')"
      ]
    },
    {
      "cell_type": "markdown",
      "metadata": {
        "id": "Rl-Hcl7t-7k2"
      },
      "source": [
        "After downloading and unzipping, the following folders and files should be there:\n",
        "\n",
        "**folders:** `encoder_scripts`\n",
        "\n",
        "**files:** `encoder_scripts/general_encoder.py`, `encoder_scripts/encoder.py` and `encoder_scripts/train_boxes.csv`\n",
        "\n",
        "However, only `encoder_scripts/general_encoder.py` will be used in the notebook. The rest two will be used in the next encoding notebook.\n",
        "\n",
        "Let's verify it by running the below cell."
      ]
    },
    {
      "cell_type": "code",
      "execution_count": null,
      "metadata": {
        "colab": {
          "base_uri": "https://localhost:8080/"
        },
        "id": "o1MvIsEC7ynQ",
        "outputId": "09f40045-bdf4-4d98-ca3c-50dedfaedf2b"
      },
      "outputs": [
        {
          "output_type": "execute_result",
          "data": {
            "text/plain": [
              "['train_boxes.csv', 'encoder.py', 'general_encoder.py']"
            ]
          },
          "metadata": {},
          "execution_count": 5
        }
      ],
      "source": [
        "os.listdir(\"./encoder_scripts\")"
      ]
    },
    {
      "cell_type": "markdown",
      "metadata": {
        "id": "iZlgy3WyzTqq"
      },
      "source": [
        "## 1 Generating Anchors Across Scales and Aspect Ratios\n",
        "\n",
        "**RECAP**\n",
        "\n",
        "<img src = 'https://learnopencv.com/wp-content/uploads/2021/08/multiple_anchors.jpg' width=700>\n",
        "\n",
        "\n",
        "Remember that we have a 3 x 3 feature map (virtually, we divided the image into a `3 x 3` grid). So, for each grid cell in the feature map, we have `3` anchors with the same area and different aspect ratios $1/2$, $1$ and $2$. Using three scales helped us to encode all objects in the image.\n",
        "\n",
        "Also, remember that the image area was `600 x 600`, and the anchor area was `200 x 200` (`600 / 3 = 200`).\n",
        "\n",
        "So instead of fixing the anchor area, we can also change it to a different scale.\n",
        "\n",
        "\n",
        "\n",
        "\n"
      ]
    },
    {
      "cell_type": "markdown",
      "metadata": {
        "id": "O0MsJ-D_FAvh"
      },
      "source": [
        "### Scales and Aspect Ratios\n",
        "\n",
        "In this notebook, we have taken an example of `3` scales and `3` aspect ratios for each scale. The scales and aspect ratios are as follows:\n",
        "\n",
        "- Scales: $1, 2^{1/3}$ and $2^{2/3}$\n",
        "- Aspect ratios: $1/2$, $1$ and $2$\n",
        "\n",
        "So, the total number of anchors per grid cell is `3 x 3 = 9`."
      ]
    },
    {
      "cell_type": "markdown",
      "metadata": {
        "id": "n6iydAFdIZ2-"
      },
      "source": [
        "### Anchors Area\n",
        "\n",
        "The above scales and aspect ratios will be applied to fixed anchor areas.\n",
        "\n",
        "**What anchor area should we choose?**\n",
        "\n",
        "Do recall the input of `loc_head` and `cls_head` for `300 x 300` images from the last detector NN architecture notebook.\n",
        "\n",
        "The inputs shapes of `loc_head` and `cls_head`(`DetectorHead`):\n",
        "```\n",
        "(None, 38, 38, 32)   # FPN output 1 / input 1\n",
        "(None, 19, 19, 32)   # FPN output 2 / input 2\n",
        "(None, 10, 10, 32)   # FPN output 3 / input 3\n",
        "(None, 5, 5, 32)     # emb_1 output / input 4\n",
        "(None, 3, 3, 32)     # emb_2 output / input 5\n",
        "\n",
        "```\n",
        "\n",
        "So it is a good idea to consider these five-level feature maps to calculate the anchor area for these five levels. Further, let us imagine the FPN output feature `(None, 38, 38, 32)` represents a `38 x 38` grid in the original input image. Similarly, `(None, 19, 19, 32)` represents a `19 x 19` grid in the original image. So we can calculate the anchor area for each output level with this notion.\n",
        "\n",
        "So the anchor area we can choose as follows:\n",
        "\n",
        "\n",
        "```\n",
        "300 / 38 = 7.89, let's approximate it to 8\n",
        "300 / 19 = 15.79, approximate it to 16\n",
        "300 / 10 = 30, approximate it to 32 to make it 2 to the power something\n",
        "300 / 5 = 60, approximate it to 64\n",
        "300 / 3 = 100, approximate it to 128\n",
        "```\n",
        "Finally, the anchors' area is as follows:\n",
        "```\n",
        "[8 x 8, 16 x 16, 32 x 32, 64 x 64, 128 x 128]\n",
        "```\n",
        "\n",
        "**Note that there is no hard and fast rule to calculate the anchor area. Also, there is no fix rule for choosing scales and aspect ratios. In the next notebook, we will see that we have chosen anchors using `k-mean` clustering (an advanced notebook on anchor choice).**\n",
        "\n",
        "\n"
      ]
    },
    {
      "cell_type": "markdown",
      "metadata": {
        "id": "TRUGoeTt2gNS"
      },
      "source": [
        "### Generate Anchors\n",
        "\n",
        "These five anchors area is for the five FPN output level. So let us generate nine different anchors for each area.\n",
        "\n",
        "let us assume,\n",
        "\n",
        "$\\text{height} = h$,\n",
        "\n",
        "$\\text{width} = w$,\n",
        "\n",
        "$\\text{anchor_area} = a$,\n",
        "\n",
        "$\\text{aspect_ratio} = r = \\frac{w}{h}$\n",
        "\n",
        "and , $\\text{ scale} = s$\n",
        "\n",
        "hence,\n",
        "\n",
        "\n",
        "\\begin{align}\n",
        "r &= \\frac{w}{h} \\\\\n",
        "\\Rightarrow  w &= r.h\n",
        "\\end{align}\n",
        "\n",
        "Now,\n",
        "\n",
        "\\begin{align}\n",
        "a &= w . h \\\\\n",
        "\\Rightarrow a &= r.h.h \\\\\n",
        "\\Rightarrow h^2 &= \\frac{a}{r} \\\\\n",
        "\\Rightarrow h &= \\sqrt{\\frac{a}{r}}\n",
        "\\end{align}\n",
        "\n",
        "As, $scale$ is $s$,\n",
        "\n",
        "the $\\text{ new_height} = s.h = s. \\sqrt{\\frac{a}{r}}$\n",
        "\n",
        "and the $ \\text{new_width} = r. \\text{new_height}$\n",
        "\n",
        "\n",
        "The `generate_anchors(...)` function generates anchors for different scales and aspect ratios centered at the origin."
      ]
    },
    {
      "cell_type": "code",
      "execution_count": null,
      "metadata": {
        "id": "y9aAw9hqxL5X"
      },
      "outputs": [],
      "source": [
        "def generate_anchors(anchor_area, aspect_ratios, scales):\n",
        "    \"\"\"\n",
        "    Generate anchors for different scales and aspect ratios centered at the\n",
        "    origin.\n",
        "    \"\"\"\n",
        "    anchors = []\n",
        "\n",
        "    for scale in scales:\n",
        "        for ratio in aspect_ratios:\n",
        "\n",
        "            h = scale * (math.sqrt(anchor_area / ratio))  # h*w * h/w = sqrt(h**2)\n",
        "            w = ratio * h  # w/h * h\n",
        "\n",
        "            # Assume the anchor box is centered at origin (0, 0)\n",
        "            # Get xmin, ymin, xmax, ymax of anchor box w.r.t origin (0, 0)\n",
        "            box_w_half = w / 2\n",
        "            box_h_half = h / 2\n",
        "\n",
        "            xmin = 0.0 - box_w_half\n",
        "            ymin = 0.0 - box_h_half\n",
        "\n",
        "            xmax = 0.0 + box_w_half\n",
        "            ymax = 0.0 + box_h_half\n",
        "\n",
        "            anchors.append([xmin, ymin, xmax, ymax])\n",
        "\n",
        "    return tf.convert_to_tensor(anchors)"
      ]
    },
    {
      "cell_type": "markdown",
      "metadata": {
        "id": "27b6UT7Pyf2C"
      },
      "source": [
        "Let us generate anchors for `3rd-level` features. Its base anchor area is `32 x 32`. Let's generate `9` anchors using `3` scales and `3` aspect ratios."
      ]
    },
    {
      "cell_type": "code",
      "execution_count": null,
      "metadata": {
        "id": "VnVFUuZilhdp"
      },
      "outputs": [],
      "source": [
        "anchor_areas = [8 * 8, 16 * 16, 32 * 32, 64 * 64, 128 * 128]\n",
        "anchor_area = 32 * 32\n",
        "aspect_ratios = [1/2, 1, 2]\n",
        "scales = [1, math.pow(2, 1/3), math.pow(2, 2/3)]\n",
        "anchors = generate_anchors(anchor_area, aspect_ratios, scales)"
      ]
    },
    {
      "cell_type": "markdown",
      "metadata": {
        "id": "QDF-gbYiz760"
      },
      "source": [
        "Let us visualize these anchors on one of the grid-cell centers in the original image shape (`300 x 300`).\n",
        "\n",
        "For this, we'll write a helper class, `Visualize`.  "
      ]
    },
    {
      "cell_type": "code",
      "execution_count": null,
      "metadata": {
        "id": "gP-a4OvVwjqO"
      },
      "outputs": [],
      "source": [
        "class Visualize:\n",
        "    def __init__(self, img_shape=(300, 300, 3), num_grid_cells=(10, 10),\n",
        "                 fig_size=(8, 8), linewidth=1):\n",
        "        self.blank = np.ones(shape=img_shape, dtype=np.uint8)*255\n",
        "        self.img_shape = img_shape\n",
        "        self.grid_size = (img_shape[0]//num_grid_cells[0],\n",
        "                          img_shape[1]//num_grid_cells[1])\n",
        "        self.fig_size = fig_size\n",
        "        self.linewidth = linewidth\n",
        "\n",
        "        # colors in CV2\n",
        "        red = (0, 0, 255)\n",
        "        green = (0, 255, 0)\n",
        "        blue = (255, 0, 0)\n",
        "        self.colors = [red, green, blue]\n",
        "\n",
        "        self.anchor_num = 0\n",
        "\n",
        "    def get_color(self):\n",
        "        anchor_num = self.anchor_num % 9\n",
        "        index = 0\n",
        "        if anchor_num >= 3 and anchor_num < 6:\n",
        "            index = 1\n",
        "        elif anchor_num >= 6:\n",
        "            index = 2\n",
        "        return self.colors[index]\n",
        "\n",
        "    @staticmethod\n",
        "    def bgr_to_rgb(img):\n",
        "        return img[:, :, ::-1]\n",
        "\n",
        "    def add_anchors(self, anchors):\n",
        "        for i, box in enumerate(anchors):\n",
        "            topleft = tuple(map(int, box.numpy()[0:2].tolist()))\n",
        "            bottomright = tuple(map(int, box.numpy()[2:].tolist()))\n",
        "            color = self.get_color()\n",
        "            cv2.rectangle(self.blank, topleft, bottomright, color,\n",
        "                          self.linewidth)\n",
        "            self.anchor_num += 1\n",
        "        return\n",
        "\n",
        "    def add_center(self, center):\n",
        "        cv2.circle(self.blank, center, 1, (0, 0, 0), -1)\n",
        "        return\n",
        "\n",
        "    def imshow(self):\n",
        "        img = self.bgr_to_rgb(self.blank)\n",
        "        plt.figure(figsize=self.fig_size)\n",
        "        plt.xticks(range(0, self.img_shape[1] + self.grid_size[1],\n",
        "                         self.grid_size[1]))\n",
        "        plt.yticks(range(0, self.img_shape[0] + self.grid_size[0],\n",
        "                         self.grid_size[0]))\n",
        "        plt.grid(\"true\")\n",
        "\n",
        "        plt.imshow(img)\n",
        "        plt.show()"
      ]
    },
    {
      "cell_type": "markdown",
      "metadata": {
        "id": "WlEsMqhXBnLd"
      },
      "source": [
        "Now let us visualize anchors for the anchor base area `32 x 32`. This base area is for the `3rd-level` features, where feature width-height is `10 x 10`. So let us divide the image into `10 x 10` grid cells.\n",
        "\n",
        "Also, the generated anchors' center is `(0, 0)`. So instead of plotting it at `(0, 0)`, let's plot in one of the grid-cell centers, for example, `(135, 135)` (center of `grid-cell-(5, 5)`). For this, we need to add the center offset to all anchor coordinates. So let us write a helper function `add_offset_to_anchors` for the same."
      ]
    },
    {
      "cell_type": "code",
      "execution_count": null,
      "metadata": {
        "id": "cUk-GmdWSXu3"
      },
      "outputs": [],
      "source": [
        "def add_offset_to_anchors(anchors, anchor_center):\n",
        "    updated_anchors = anchors + tf.constant([anchor_center[0], anchor_center[1],\n",
        "                                       anchor_center[0], anchor_center[1]],\n",
        "                                       dtype=tf.float32)\n",
        "    return updated_anchors"
      ]
    },
    {
      "cell_type": "markdown",
      "metadata": {
        "id": "lOXWJ5cZiVdn"
      },
      "source": [
        "Let us visualize anchors at the anchor center `(135, 135)`."
      ]
    },
    {
      "cell_type": "code",
      "execution_count": null,
      "metadata": {
        "colab": {
          "base_uri": "https://localhost:8080/",
          "height": 486
        },
        "id": "0pRUCJbCImCl",
        "outputId": "a5f5012d-a80a-4f1b-eab1-603dcbfc216a"
      },
      "outputs": [
        {
          "data": {
            "image/png": "[encoded data removed]",
            "text/plain": [
              "<Figure size 576x576 with 1 Axes>"
            ]
          },
          "metadata": {
            "needs_background": "light"
          },
          "output_type": "display_data"
        }
      ],
      "source": [
        "vis = Visualize(num_grid_cells=(10, 10))\n",
        "anchor_center = (135, 135)\n",
        "# update the anchors position\n",
        "anchors = add_offset_to_anchors(anchors, anchor_center)\n",
        "vis.add_anchors(anchors)\n",
        "vis.add_center(anchor_center)\n",
        "vis.imshow()"
      ]
    },
    {
      "cell_type": "markdown",
      "metadata": {
        "id": "MtMSShhuGo4b"
      },
      "source": [
        "Let us also generate anchors for the 4th level feature where the anchor base area is `64 x 64` and the number of features is `5 x 5` (so the number of grid cells is `5 x 5`).\n",
        "\n",
        "Let us visualize the anchors at the anchor center `(150, 90)`."
      ]
    },
    {
      "cell_type": "code",
      "execution_count": null,
      "metadata": {
        "colab": {
          "base_uri": "https://localhost:8080/",
          "height": 486
        },
        "id": "XkEd6NFWHSmk",
        "outputId": "844ba494-b5c9-459a-990f-696b33365a8d"
      },
      "outputs": [
        {
          "data": {
            "image/png": "[encoded data removed]",
            "text/plain": [
              "<Figure size 576x576 with 1 Axes>"
            ]
          },
          "metadata": {
            "needs_background": "light"
          },
          "output_type": "display_data"
        }
      ],
      "source": [
        "anchor_area = 64 * 64\n",
        "anchors = generate_anchors(anchor_area, aspect_ratios, scales)\n",
        "anchor_center = (150, 90)\n",
        "# update the anchors position\n",
        "anchors = add_offset_to_anchors(anchors, anchor_center)\n",
        "vis = Visualize(num_grid_cells=(5, 5))\n",
        "vis.add_anchors(anchors)\n",
        "vis.add_center(anchor_center)\n",
        "vis.imshow()"
      ]
    },
    {
      "cell_type": "markdown",
      "metadata": {
        "id": "O7uQ_L7ekOsw"
      },
      "source": [
        "### Generate Anchors for all Grid-cells\n",
        "\n",
        "Once anchors for a given grid (feature-level) are generated, we have to place them at all grid-cells centers.\n",
        "\n",
        "Also, note that if anchors are placed at the edges cell center, a portion of the anchor may fall outside of the image. So we need to handle these cases by clipping anchors to the image area.\n",
        "\n",
        "So let us write a function `generate_anchor_grid` for the same."
      ]
    },
    {
      "cell_type": "code",
      "execution_count": null,
      "metadata": {
        "id": "0TGzRMGnw5_8"
      },
      "outputs": [],
      "source": [
        "def generate_anchor_grid(input_size, fm_size, anchors):\n",
        "    \"\"\"\n",
        "    Generate anchors for all grid-cless\n",
        "\n",
        "    Arguments:\n",
        "    input_size (tuple): The imput image shape\n",
        "    fm_size (tuple): tuple of feature height-width\n",
        "    anchors (tensors): All anchors for the feature-level\n",
        "\n",
        "    return: anchors for all grid cells, centered at the grid-cell center\n",
        "    \"\"\"\n",
        "    img_h, img_w = input_size\n",
        "\n",
        "    grid_h = math.ceil(img_h / fm_size)\n",
        "    grid_w = math.ceil(img_w / fm_size)\n",
        "\n",
        "    grid_h_coords = tf.range(0, fm_size, dtype=tf.float32) * grid_h + grid_h / 2\n",
        "    grid_w_coords = tf.range(0, fm_size, dtype=tf.float32) * grid_w + grid_w / 2\n",
        "\n",
        "    x, y = tf.meshgrid(grid_w_coords, grid_h_coords)\n",
        "\n",
        "    xyxy = tf.cast(tf.stack([x, y, x, y], axis=2), tf.float32)\n",
        "    anchors = tf.reshape(anchors, [-1, 1, 1, 4])\n",
        "    boxes = tf.transpose(xyxy + anchors, perm=(1, 2, 0, 3))\n",
        "    boxes = tf.reshape(boxes, [-1, 4])\n",
        "\n",
        "    # clip anchors to image area\n",
        "    min_anchor_size = [0.0, 0.0, 0.0, 0.0]\n",
        "    max_anchor_size = [img_w, img_h, img_w, img_h]\n",
        "\n",
        "    boxes = tf.clip_by_value(boxes, clip_value_min=min_anchor_size, clip_value_max=max_anchor_size)\n",
        "\n",
        "    return boxes"
      ]
    },
    {
      "cell_type": "code",
      "execution_count": null,
      "metadata": {
        "colab": {
          "base_uri": "https://localhost:8080/",
          "height": 486
        },
        "id": "836IJ7P3salR",
        "outputId": "9af94520-8f02-4fc7-b72a-0f8dab613fd9"
      },
      "outputs": [
        {
          "data": {
            "image/png": "[encoded data removed]",
            "text/plain": [
              "<Figure size 576x576 with 1 Axes>"
            ]
          },
          "metadata": {
            "needs_background": "light"
          },
          "output_type": "display_data"
        }
      ],
      "source": [
        "anchor_area = 128 * 128\n",
        "num_grid_cells = (3, 3)  # number of grid-cells for the anchor area\n",
        "                         # (128 x 128) is (3 x 3)\n",
        "anchors = generate_anchors(anchor_area, aspect_ratios, scales)\n",
        "fm_size = 3\n",
        "input_size = (300, 300)  # image height-width\n",
        "all_anchors = generate_anchor_grid(input_size, fm_size, anchors)\n",
        "vis = Visualize(num_grid_cells=num_grid_cells)\n",
        "start_idx = 0\n",
        "end_idx = 81\n",
        "vis.add_anchors(all_anchors[start_idx:end_idx])\n",
        "vis.imshow()\n",
        "#all_anchors[start_idx:end_idx]"
      ]
    },
    {
      "cell_type": "markdown",
      "metadata": {
        "id": "Q0Lbzsc09uvq"
      },
      "source": [
        "So far, anchors have been generated; the next step is to assign a label to anchors and adjust anchors' coordinates to match ground-truth labels."
      ]
    },
    {
      "cell_type": "markdown",
      "metadata": {
        "id": "lMcv11hE8vOZ"
      },
      "source": [
        "## 2 Encoding Ground-Truth wrt Anchors\n",
        "\n",
        "In the classification to detection module, we have seen how anchors will be assigned a label based on IoU with ground truth. Moreover, if the anchor is assigned some object label (not a background label), then anchor coordinates will be adjusted to match the ground truth.\n",
        "\n",
        "Here is the flow diagram of the algorithm.\n",
        "\n",
        "**RECAP**\n",
        "\n",
        "<img src = 'https://opencv.org/wp-content/uploads/2022/06/iou_flowchart.png' width=700>\n",
        "\n",
        "\n",
        "Broadly the label assigned to the anchor can be divided into two parts:\n",
        "\n",
        "- Assigning a class label, and\n",
        "- Adjustments in anchors (offset) to match with ground truth.\n",
        "\n",
        "\n",
        "In code, the assignment of the class label is the same as shown in the diagram. However, an adjustment in the anchor is not a simple difference between the anchor and ground truth coordinates. Instead, it has a different representation.\n",
        "\n",
        "So, let us first have a look into the bounding box encoding of ground truths."
      ]
    },
    {
      "cell_type": "markdown",
      "metadata": {
        "id": "I8pzrQ5IDNdc"
      },
      "source": [
        "### Bounding Box Encoding\n",
        "\n",
        "Before going into encoding, let us look at an alternate representation of rectangle (anchor/ground truth).\n",
        "\n",
        "So far, we have seen that the following four numbers can represent a rectangle (bounding box):\n",
        "\n",
        "$[x_{min}, y_{min}, x_{max}, y_{max}]$\n",
        "\n",
        "Using these four numbers, we can calculate the following four numbers and vice-versa:\n",
        "\n",
        "$[x_{center}, y_{center}, width, height]$\n",
        "\n",
        "where,\n",
        "\n",
        "$(x_{center}, y_{center})$ is the center of the rectangle.\n",
        "\n",
        "$width$ is width of the rectangle.\n",
        "\n",
        "$height$ is height of the rectangle.\n",
        "\n",
        "We can get the alternate representation using the old representation as follows:\n",
        "\n",
        "\\begin{align}\n",
        "x_{center} &= x_{min} + \\frac{x_{max} - x_{min}}{2} \\\\\n",
        "y_{center} &= y_{min} + \\frac{y_{max} - y_{min}}{2}\\\\\n",
        "width &= x_{max} - x_{min} \\\\\n",
        "height &= y_{max} - y_{min}\n",
        "\\end{align}\n",
        "\n",
        "\n",
        "\n",
        "\n",
        "\n"
      ]
    },
    {
      "cell_type": "markdown",
      "metadata": {
        "id": "1XS5o8SvJ8mj"
      },
      "source": [
        "In the old representation:\n",
        "\n",
        "**Anchor:** $[x_{Amin}, y_{Amin}, x_{Amax}, y_{Amax}]$\n",
        "\n",
        "**Ground-truth:** $[x_{gt \\ min}, y_{gt\\ min}, x_{gt\\ max}, y_{gt\\ max}]$\n",
        "\n",
        "The below image represents an anchor and a ground truth box plotted in `green` and `red` respectively.\n",
        "\n",
        "\n",
        "\n",
        "<img src = \"https://opencv.org/wp-content/uploads/2022/06/encoding_gts.png\" width =700>"
      ]
    },
    {
      "cell_type": "markdown",
      "metadata": {
        "id": "cZhu_gI2J4nH"
      },
      "source": [
        "**One of the encodings can be as follows:**\n",
        "\n",
        "$$\n",
        "\\begin{align}\n",
        "dx_{center} & = \\ \\frac{x_{gt\\ center} - x_{Acenter}}{width_A}\\\\\n",
        "\\nonumber\\\\dy_{center} & = \\ \\frac{y_{gt\\ center} - y_{Acenter}}{height_A}\\\\\n",
        "\\nonumber\\\\dwidth & = \\ \\ln{\\left[\\frac{width_{gt}}{width_A}\\right]}\\\\\n",
        "\\nonumber\\\\dheight & = \\ \\ln{\\left[\\frac{height_{gt}}{height_A}\\right]}\\\\\n",
        "\\end{align}\n",
        "$$\n",
        "\n",
        "\n",
        "\n",
        "\n"
      ]
    },
    {
      "cell_type": "markdown",
      "metadata": {
        "id": "pqgU3xRCSUfT"
      },
      "source": [
        "**Is the new encoding better than the old (naive) encoding?**\n",
        "\n",
        "**YES**\n",
        "\n",
        "To understand it, let us take an example of an anchor and ground truth.\n",
        "\n",
        "**Case I:**\n",
        "\n",
        "$Anchor_{old}: [10, 10, 20, 20]$\n",
        "\n",
        "$Ground-truth_{old}: [12, 12, 22, 22]$\n",
        "\n",
        "$Anchor_{new}: [15, 15, 10, 10]$\n",
        "\n",
        "$Ground-truth_{new}: [17, 17, 10, 10]$\n",
        "\n",
        "Then,\n",
        "\n",
        "$$\n",
        "IoU = \\frac{8 * 8}{(10*10)+(10*10)-(8*8)} = \\frac{64}{136} = \\frac{8}{17}\n",
        "$$\n",
        "\n",
        "**Offset encoding using the old method:** $[2, 2, 2, 2]$\n",
        "\n",
        "**Offset encoding using the new method:** $[\\frac{2}{10}, \\frac{2}{10}, \\ln{\\frac{1}{1}}, \\ln{\\frac{1}{1}}]$"
      ]
    },
    {
      "cell_type": "markdown",
      "metadata": {
        "id": "D3tK4MTopi6c"
      },
      "source": [
        "**Case II:**\n",
        "\n",
        "$Anchor_{old}: [5, 5, 10, 10]$\n",
        "\n",
        "$Ground-truth_{old}: [6, 6, 11, 11]$\n",
        "\n",
        "$Anchor_{new}: [7.5, 7.5, 5, 5]$\n",
        "\n",
        "$Ground-truth_{new}: [8.5, 8.5, 5, 5]$\n",
        "\n",
        "Then,\n",
        "\n",
        "$$\n",
        "IoU = \\frac{4 * 4}{(5*5)+(5*5)-(4*4)} = \\frac{16}{34} = \\frac{8}{17}\n",
        "$$\n",
        "\n",
        "**Offset encoding using the old method:** $[1, 1, 1, 1]$\n",
        "\n",
        "**Offset encoding using the new method:** $[\\frac{1}{5}, \\frac{1}{5}, \\ln{\\frac{1}{1}}, \\ln{\\frac{1}{1}}]$"
      ]
    },
    {
      "cell_type": "markdown",
      "metadata": {
        "id": "NmyBArCiqtaC"
      },
      "source": [
        "We notice that IoU and new offsets are the same in both cases. However, the old offsets are different. Moreover, the old offset for the bigger anchor-gt pair is more compared to the smaller pair. It means that if we are encoding using old offset, generally model has to learn bigger offset values for bigger anchor-gt pair. So it is not normalizing throughout the all anchors area. However, the new offsets are normalized across all anchor areas.\n",
        "\n",
        "\n",
        "There is a nice [blog post](https://leimao.github.io/blog/Bounding-Box-Encoding-Decoding/) that discusses the various encoding schemes used in object detection."
      ]
    },
    {
      "cell_type": "markdown",
      "metadata": {
        "id": "V4aP7aw92eWY"
      },
      "source": [
        "We have discussed the bounding box offset encoding in detail. Now let us jump to the code for box encoding, `encode_boxes`.\n",
        "\n",
        "```python\n",
        "def encode_boxes(*, boxes, anchors):\n",
        "    anchors_wh = anchors[:, 2:] - anchors[:, :2]\n",
        "    anchors_ctr = anchors[:, :2] + 0.5 * anchors_wh\n",
        "    boxes_wh = boxes[:, 2:] - boxes[:, :2]\n",
        "    boxes_ctr = boxes[:, :2] + 0.5 * boxes_wh\n",
        "\n",
        "    encoded_xy = (boxes_ctr - anchors_ctr) / anchors_wh\n",
        "    encoded_wh = tf.math.log(boxes_wh / anchors_wh)\n",
        "\n",
        "    boxes = tf.concat([encoded_xy, encoded_wh], axis=1)\n",
        "\n",
        "    return boxes\n",
        "```"
      ]
    },
    {
      "cell_type": "markdown",
      "metadata": {
        "id": "R6B7U1lY4PyG"
      },
      "source": [
        "### Class Encoding\n",
        "\n",
        "Class encoding is the same as shown in the above flow chart.\n",
        "\n",
        "In summary following is the algorithm for a class assignment:\n",
        "\n",
        "anchor in all anchors:\n",
        "- calculate IoU with all ground-truth\n",
        "- select the ground truth which has maximum IoU\n",
        "- if IoU > 0.5, assign the class to the anchor\n",
        "- elif IoU > 0.3, assign -1 , don't care class\n",
        "- else, assign 0, the background class\n",
        "\n",
        "Now let us jump to the code encoding that includes class and bounding box encoding.\n",
        "\n"
      ]
    },
    {
      "cell_type": "markdown",
      "metadata": {
        "id": "9gaqN6_E7aGD"
      },
      "source": [
        "```python\n",
        "def encode(self, boxes, classes):\n",
        "        iou = compute_iou(src=boxes, dst=self.anchor_boxes)\n",
        "        ids = tf.math.argmax(iou, axis=1)\n",
        "        iou = tf.math.reduce_max(iou, axis=1)\n",
        "\n",
        "        loc_targets = encode_boxes(boxes=tf.gather(boxes, ids), anchors=self.anchor_boxes)\n",
        "\n",
        "        cls_targets = tf.gather(classes, ids)\n",
        "        cls_targets = tf.where(iou < 0.5, -1, cls_targets)\n",
        "        cls_targets = tf.where(iou < 0.3, 0, cls_targets)\n",
        "\n",
        "        return loc_targets, cls_targets\n",
        "```"
      ]
    },
    {
      "cell_type": "markdown",
      "metadata": {
        "id": "GiG_oB8H_FHu"
      },
      "source": [
        "# 3 The DataEncoder Class\n",
        "\n",
        "The DataEncoder class is the class for encoding and decoding. Let us use the class for a sample encoding."
      ]
    },
    {
      "cell_type": "code",
      "execution_count": null,
      "metadata": {
        "colab": {
          "base_uri": "https://localhost:8080/"
        },
        "id": "rm9HD9WHs4Eh",
        "outputId": "2ba39371-0cbc-45df-9c97-053658f04ce5"
      },
      "outputs": [
        {
          "name": "stdout",
          "output_type": "stream",
          "text": [
            "Location Target Shape: (17451, 4)\n",
            "Class Target Shape (sparse): (17451,)\n"
          ]
        }
      ],
      "source": [
        "from encoder_scripts.general_encoder import DataEncoder\n",
        "\n",
        "height_width = (300, 300)\n",
        "bbox = tf.constant([[100, 100, 130, 200], [120, 110, 150, 200]], dtype=tf.float32)\n",
        "classes = tf.constant([1, 1], dtype=tf.float32)\n",
        "\n",
        "data_encoder = DataEncoder(height_width, classes=[\"__background__\", \"person\"])\n",
        "\n",
        "loc_traget, cls_target = data_encoder.encode(bbox, classes)\n",
        "\n",
        "print('Location Target Shape: {}'.format(loc_traget.shape))\n",
        "print('Class Target Shape (sparse): {}'.format(cls_target.shape))"
      ]
    },
    {
      "cell_type": "markdown",
      "metadata": {
        "id": "b5WdZc0rGlGu"
      },
      "source": [
        "Most probably, you are not wondering about the number 17451. The number comes from all nine anchors at all grid cells at all feature level.\n",
        "\n",
        "If you are wondering about class target shape, why is it not `(17451, 2)` for two classes?\n",
        "\n",
        "Because it is sparsely encoded, using one-hot encoding further, it can be changed to `(17451, 2)`.\n"
      ]
    },
    {
      "cell_type": "code",
      "execution_count": null,
      "metadata": {
        "id": "1wS9v9js_Va9"
      },
      "outputs": [],
      "source": []
    }
  ],
  "metadata": {
    "colab": {
      "provenance": []
    },
    "kernelspec": {
      "display_name": "Python 3 (ipykernel)",
      "language": "python",
      "name": "python3"
    },
    "language_info": {
      "codemirror_mode": {
        "name": "ipython",
        "version": 3
      },
      "file_extension": ".py",
      "mimetype": "text/x-python",
      "name": "python",
      "nbconvert_exporter": "python",
      "pygments_lexer": "ipython3",
      "version": "3.8.13"
    },
    "latex_envs": {
      "LaTeX_envs_menu_present": true,
      "autoclose": false,
      "autocomplete": true,
      "bibliofile": "biblio.bib",
      "cite_by": "apalike",
      "current_citInitial": 1,
      "eqLabelWithNumbers": true,
      "eqNumInitial": 1,
      "hotkeys": {
        "equation": "Ctrl-E",
        "itemize": "Ctrl-I"
      },
      "labels_anchors": false,
      "latex_user_defs": false,
      "report_style_numbering": false,
      "user_envs_cfg": false
    },
    "varInspector": {
      "cols": {
        "lenName": 16,
        "lenType": 16,
        "lenVar": 40
      },
      "kernels_config": {
        "python": {
          "delete_cmd_postfix": "",
          "delete_cmd_prefix": "del ",
          "library": "var_list.py",
          "varRefreshCmd": "print(var_dic_list())"
        },
        "r": {
          "delete_cmd_postfix": ") ",
          "delete_cmd_prefix": "rm(",
          "library": "var_list.r",
          "varRefreshCmd": "cat(var_dic_list()) "
        }
      },
      "types_to_exclude": [
        "module",
        "function",
        "builtin_function_or_method",
        "instance",
        "_Feature"
      ],
      "window_display": false
    }
  },
  "nbformat": 4,
  "nbformat_minor": 0
}